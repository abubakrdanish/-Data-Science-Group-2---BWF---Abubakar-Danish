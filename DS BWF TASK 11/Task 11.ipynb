{
 "cells": [
  {
   "cell_type": "code",
   "execution_count": 3,
   "id": "fcf4fce9-ca12-4f86-a9f3-2759f1636ab2",
   "metadata": {},
   "outputs": [],
   "source": [
    "import numpy as np\n",
    "arr = np.arange(25).reshape(5, 5)\n",
    "sub_array = arr[1:4, 1:4]"
   ]
  },
  {
   "cell_type": "code",
   "execution_count": 4,
   "id": "48cf1178-0b84-4b29-85e2-7d84058a85c2",
   "metadata": {},
   "outputs": [],
   "source": [
    "arr_3d = np.arange(24).reshape(4, 3, 2)\n",
    "sub_array_3d = arr_3d[:2, :, 1]\n"
   ]
  },
  {
   "cell_type": "code",
   "execution_count": 5,
   "id": "d4ef9e48-9820-4fac-a1b0-9721beb1464b",
   "metadata": {},
   "outputs": [],
   "source": [
    "arr = np.arange(10)\n",
    "fancy_indexed = arr[[1, 3, 4, 7]]\n"
   ]
  },
  {
   "cell_type": "code",
   "execution_count": 6,
   "id": "d71db972-5be6-4b7e-b18d-6b757107d30b",
   "metadata": {},
   "outputs": [],
   "source": [
    "arr_2d = np.arange(25).reshape(5, 5)\n",
    "fancy_indexed_2d = arr_2d[[0, 2, 3], :][:, [1, 3]]\n"
   ]
  },
  {
   "cell_type": "code",
   "execution_count": 7,
   "id": "a2109a38-fd7f-4fa0-b966-4068eca70cb1",
   "metadata": {},
   "outputs": [],
   "source": [
    "arr_random = np.random.randint(0, 20, size=10)\n",
    "greater_than_10 = arr_random[arr_random > 10]\n"
   ]
  },
  {
   "cell_type": "code",
   "execution_count": 8,
   "id": "25dd3666-c1c7-4cb2-a884-686c659787cf",
   "metadata": {},
   "outputs": [],
   "source": [
    "arr_2d = np.random.randint(0, 20, size=(5, 5))\n",
    "arr_2d[arr_2d > 15] = 0\n"
   ]
  },
  {
   "cell_type": "code",
   "execution_count": 9,
   "id": "2c479cca-1bd2-4310-90cf-5639c39b3074",
   "metadata": {},
   "outputs": [],
   "source": [
    "arr_2d = np.random.randint(0, 10, size=(4, 3))\n",
    "arr_1d = np.array([1, 2, 3])\n",
    "broadcasted_sum = arr_2d + arr_1d\n"
   ]
  },
  {
   "cell_type": "code",
   "execution_count": 10,
   "id": "b0b9ac3e-876d-46c6-8a3d-320e0289b6f5",
   "metadata": {},
   "outputs": [],
   "source": [
    "arr_2d = np.random.randint(0, 10, size=(3, 3))\n",
    "arr_1d = np.array([1, 2, 3])\n",
    "broadcasted_product = arr_2d * arr_1d\n"
   ]
  },
  {
   "cell_type": "code",
   "execution_count": 11,
   "id": "c7c856a4-4d28-4d38-be41-db0bc6bf58c6",
   "metadata": {},
   "outputs": [],
   "source": [
    "arr1 = np.random.randint(0, 10, size=(3, 1))\n",
    "arr2 = np.random.randint(0, 10, size=(1, 4))\n",
    "elementwise_sum = arr1 + arr2\n"
   ]
  },
  {
   "cell_type": "code",
   "execution_count": 12,
   "id": "e2f9391f-a35d-44d2-94bb-95e2216e38d8",
   "metadata": {},
   "outputs": [],
   "source": [
    "arr_3d = np.random.randint(0, 10, size=(2, 3, 4))\n",
    "arr_2d = np.random.randint(0, 10, size=(3, 4))\n",
    "broadcasted_3d_sum = arr_3d + arr_2d\n"
   ]
  },
  {
   "cell_type": "code",
   "execution_count": 13,
   "id": "b6a55030-e331-4c34-b9e1-06d825e748ca",
   "metadata": {},
   "outputs": [],
   "source": [
    "arr_2d = np.random.randint(0, 10, size=(5, 5))\n",
    "sliced_arr = arr_2d[::2, ::2]\n",
    "arr_1d = np.array([1, 2, 3])\n",
    "sliced_sum = sliced_arr + arr_1d[:sliced_arr.shape[1]]\n"
   ]
  },
  {
   "cell_type": "code",
   "execution_count": 37,
   "id": "908f0af3-db49-483d-ae4f-d884d4849530",
   "metadata": {},
   "outputs": [
    {
     "name": "stdout",
     "output_type": "stream",
     "text": [
      "arr_3d:\n",
      " [[[2 4]\n",
      "  [5 5]\n",
      "  [0 8]]\n",
      "\n",
      " [[1 4]\n",
      "  [4 9]\n",
      "  [4 9]]\n",
      "\n",
      " [[6 4]\n",
      "  [4 8]\n",
      "  [7 3]]\n",
      "\n",
      " [[2 2]\n",
      "  [1 9]\n",
      "  [5 1]]]\n",
      "sub_arr_3d:\n",
      " [[[2 4]\n",
      "  [5 5]\n",
      "  [0 8]]\n",
      "\n",
      " [[1 4]\n",
      "  [4 9]\n",
      "  [4 9]]]\n",
      "arr_2d:\n",
      " [[6 9]\n",
      " [5 1]]\n",
      "reshaped_arr_2d:\n",
      " [[[6 9]]\n",
      "\n",
      " [[5 1]]]\n",
      "broadcasted_subtraction:\n",
      " [[[-4 -5]\n",
      "  [-1 -4]\n",
      "  [-6 -1]]\n",
      "\n",
      " [[-4  3]\n",
      "  [-1  8]\n",
      "  [-1  8]]]\n"
     ]
    }
   ],
   "source": [
    "import numpy as np\n",
    "arr_3d = np.random.randint(0, 10, size=(4, 3, 2))\n",
    "sub_arr_3d = arr_3d[:2, :, :]\n",
    "arr_2d = np.random.randint(0, 10, size=(2, 2))\n",
    "reshaped_arr_2d = arr_2d[:, np.newaxis, :]\n",
    "broadcasted_subtraction = sub_arr_3d - reshaped_arr_2d\n",
    "print(\"arr_3d:\\n\", arr_3d)\n",
    "print(\"sub_arr_3d:\\n\", sub_arr_3d)\n",
    "print(\"arr_2d:\\n\", arr_2d)\n",
    "print(\"reshaped_arr_2d:\\n\", reshaped_arr_2d)\n",
    "print(\"broadcasted_subtraction:\\n\", broadcasted_subtraction)\n"
   ]
  },
  {
   "cell_type": "code",
   "execution_count": 39,
   "id": "186a9a90-0928-4474-b374-86a866870909",
   "metadata": {},
   "outputs": [
    {
     "name": "stdout",
     "output_type": "stream",
     "text": [
      "arr_3d:\n",
      " [[[4 1]\n",
      "  [9 6]\n",
      "  [8 8]]\n",
      "\n",
      " [[3 5]\n",
      "  [6 3]\n",
      "  [5 2]]\n",
      "\n",
      " [[5 3]\n",
      "  [8 0]\n",
      "  [4 6]]\n",
      "\n",
      " [[9 6]\n",
      "  [8 0]\n",
      "  [5 3]]]\n",
      "sub_arr_3d:\n",
      " [[[4 1]\n",
      "  [9 6]\n",
      "  [8 8]]\n",
      "\n",
      " [[3 5]\n",
      "  [6 3]\n",
      "  [5 2]]]\n",
      "arr_2d:\n",
      " [[2 7]\n",
      " [1 5]]\n",
      "reshaped_arr_2d:\n",
      " [[[2 7]]\n",
      "\n",
      " [[1 5]]]\n",
      "broadcasted_subtraction:\n",
      " [[[ 2 -6]\n",
      "  [ 7 -1]\n",
      "  [ 6  1]]\n",
      "\n",
      " [[ 2  0]\n",
      "  [ 5 -2]\n",
      "  [ 4 -3]]]\n"
     ]
    }
   ],
   "source": [
    "arr_3d = np.random.randint(0, 10, size=(4, 3, 2))\n",
    "sub_arr_3d = arr_3d[:2, :, :]\n",
    "arr_2d = np.random.randint(0, 10, size=(2, 2))\n",
    "reshaped_arr_2d = arr_2d[:, np.newaxis, :]\n",
    "broadcasted_subtraction = sub_arr_3d - reshaped_arr_2d\n",
    "print(\"arr_3d:\\n\", arr_3d)\n",
    "print(\"sub_arr_3d:\\n\", sub_arr_3d)\n",
    "print(\"arr_2d:\\n\", arr_2d)\n",
    "print(\"reshaped_arr_2d:\\n\", reshaped_arr_2d)\n",
    "print(\"broadcasted_subtraction:\\n\", broadcasted_subtraction)\n"
   ]
  },
  {
   "cell_type": "code",
   "execution_count": 16,
   "id": "5fc59c41-dbaa-403c-8f62-c89c660a11c5",
   "metadata": {},
   "outputs": [],
   "source": [
    "arr_2d = np.random.randint(0, 10, size=(5, 5))\n",
    "diagonal_elements = np.diag(arr_2d)\n"
   ]
  },
  {
   "cell_type": "code",
   "execution_count": 17,
   "id": "e08e354a-63da-4c4d-b18f-fef3ada623ee",
   "metadata": {},
   "outputs": [],
   "source": [
    "arr_2d = np.random.randint(0, 10, size=(5, 5))\n",
    "reversed_rows = arr_2d[:, ::-1]\n"
   ]
  },
  {
   "cell_type": "code",
   "execution_count": 18,
   "id": "213515a7-7d67-4d1b-a023-380190739123",
   "metadata": {},
   "outputs": [],
   "source": [
    "arr_3d = np.random.randint(0, 10, size=(4, 5, 6))\n",
    "sub_arr_3d = arr_3d[:2, :3, :4]\n",
    "arr_1d = np.array([1, 2, 3, 4])\n",
    "broadcasted_addition = sub_arr_3d + arr_1d\n"
   ]
  },
  {
   "cell_type": "code",
   "execution_count": 19,
   "id": "a0636ccc-4643-4403-90c6-7d1433cfc133",
   "metadata": {},
   "outputs": [],
   "source": [
    "arr_2d = np.random.randint(0, 10, size=(5, 5))\n",
    "arr_2d[:, -1] = arr_2d[:, 0] + arr_2d[:, 1]\n"
   ]
  },
  {
   "cell_type": "code",
   "execution_count": 20,
   "id": "5cf00bc3-f14d-4ee1-ba8a-e4acd30b6057",
   "metadata": {},
   "outputs": [],
   "source": [
    "arr_2d = np.arange(36).reshape(6, 6)\n",
    "sub_array_2x2 = arr_2d[1:3, 1:3]\n"
   ]
  },
  {
   "cell_type": "code",
   "execution_count": 21,
   "id": "b233af33-36da-4d16-84fe-3bff9a1c9661",
   "metadata": {},
   "outputs": [],
   "source": [
    "arr_3d = np.arange(6).reshape(3, 2, 1)\n",
    "sub_array_3d_2 = arr_3d[:2, :, 0]\n"
   ]
  },
  {
   "cell_type": "code",
   "execution_count": 22,
   "id": "8943f512-40a8-4940-b950-657a190b3778",
   "metadata": {},
   "outputs": [],
   "source": [
    "arr = np.arange(10)\n",
    "fancy_indexed_arr = arr[[1, 3, 4, 6]]\n"
   ]
  },
  {
   "cell_type": "code",
   "execution_count": 23,
   "id": "ebedc3be-329c-4f94-a05e-a2dbc64981d6",
   "metadata": {},
   "outputs": [],
   "source": [
    "arr_2d = np.arange(36).reshape(6, 6)\n",
    "fancy_indexed_2d = arr_2d[[0, 2, 2], :][:, [1, 3]]\n",
    "\n"
   ]
  },
  {
   "cell_type": "code",
   "execution_count": 24,
   "id": "ef153624-80f3-4828-94e3-c61cc05377e7",
   "metadata": {},
   "outputs": [],
   "source": [
    "arr_random = np.random.randint(0, 20, size=10)\n",
    "greater_than_8 = arr_random[arr_random > 8]\n"
   ]
  },
  {
   "cell_type": "code",
   "execution_count": 25,
   "id": "1461e0d3-af4d-4410-af7b-83a046eb22ac",
   "metadata": {},
   "outputs": [],
   "source": [
    "arr_random = np.random.randint(0, 20, size=10)\n",
    "greater_than_8 = arr_random[arr_random > 8]\n"
   ]
  },
  {
   "cell_type": "code",
   "execution_count": 26,
   "id": "b459ac16-a945-4251-9be6-7e7afda45da2",
   "metadata": {},
   "outputs": [],
   "source": [
    "arr_2d = np.random.randint(0, 20, size=(6, 6))\n",
    "arr_2d[arr_2d > 13] = 0\n"
   ]
  },
  {
   "cell_type": "code",
   "execution_count": 27,
   "id": "43d4baa7-ba75-40f5-92de-37a8fd2ffe72",
   "metadata": {},
   "outputs": [],
   "source": [
    "arr_2d = np.random.randint(0, 10, size=(4, 3))\n",
    "arr_1d = np.array([1, 2, 3])\n",
    "broadcasted_sum_extended = arr_2d + arr_1d\n"
   ]
  },
  {
   "cell_type": "code",
   "execution_count": 28,
   "id": "00604ff7-9415-4491-90ef-9f2551e4eb61",
   "metadata": {},
   "outputs": [],
   "source": [
    "arr_2d = np.random.randint(0, 10, size=(3, 3))\n",
    "arr_1d = np.array([1, 2, 3])\n",
    "broadcasted_product_extended = arr_2d * arr_1d\n"
   ]
  },
  {
   "cell_type": "code",
   "execution_count": 29,
   "id": "7b0867b8-344b-45c0-bb39-1134c6879d5c",
   "metadata": {},
   "outputs": [],
   "source": [
    "arr1 = np.random.randint(0, 10, size=(3, 1))\n",
    "arr2 = np.random.randint(0, 10, size=(1, 4))\n",
    "elementwise_sum_extended = arr1 + arr2\n"
   ]
  },
  {
   "cell_type": "code",
   "execution_count": 30,
   "id": "62cdabaf-9a88-4427-b33a-a46ca7717b80",
   "metadata": {},
   "outputs": [],
   "source": [
    "arr_3d = np.random.randint(0, 10, size=(2, 3, 4))\n",
    "arr_2d = np.random.randint(0, 10, size=(3, 4))\n",
    "broadcasted_3d_sum_extended = arr_3d + arr_2d\n"
   ]
  },
  {
   "cell_type": "code",
   "execution_count": 31,
   "id": "0ee0f254-859a-47be-821b-6950ebd6c5f8",
   "metadata": {},
   "outputs": [],
   "source": [
    "arr_2d = np.random.randint(0, 10, size=(6, 6))\n",
    "sliced_arr_extended = arr_2d[::2, ::2]\n",
    "arr_1d = np.array([1, 2, 3])\n",
    "sliced_sum_extended = sliced_arr_extended + arr_1d[:sliced_arr_extended.shape[1]]\n"
   ]
  },
  {
   "cell_type": "code",
   "execution_count": 32,
   "id": "e1b8fbee-45d7-421f-93ee-bf0e89493c06",
   "metadata": {},
   "outputs": [],
   "source": [
    "arr_3d = np.random.randint(0, 10, size=(3, 2, 1))\n",
    "sub_arr_3d_extended = arr_3d[:, :, :]\n",
    "arr_2d = np.random.randint(0, 10, size=(2, 1))\n",
    "broadcasted_subtraction_extended = sub_arr_3d_extended - arr_2d\n"
   ]
  },
  {
   "cell_type": "code",
   "execution_count": 33,
   "id": "e3afbad1-6620-4458-a96a-f2584ba34980",
   "metadata": {},
   "outputs": [],
   "source": [
    "arr_2d = np.random.randint(0, 10, size=(6, 6))\n",
    "diagonal_elements_extended = np.diag(arr_2d)\n"
   ]
  },
  {
   "cell_type": "code",
   "execution_count": 34,
   "id": "1784fcd1-8532-4d4e-9ce1-4ed7ae765fc9",
   "metadata": {},
   "outputs": [],
   "source": [
    "arr_2d = np.random.randint(0, 10, size=(6, 6))\n",
    "reversed_rows_extended = arr_2d[:, ::-1]\n"
   ]
  },
  {
   "cell_type": "code",
   "execution_count": 35,
   "id": "0298a7d4-5b31-4279-bd08-861d1473378f",
   "metadata": {},
   "outputs": [],
   "source": [
    "arr_3d = np.random.randint(0, 10, size=(7, 6, 5))\n",
    "sub_arr_3d_extended = arr_3d[:2, :3, :4]\n",
    "arr_1d = np.array([1, 2, 3, 4])\n",
    "broadcasted_addition_extended = sub_arr_3d_extended + arr_1d\n"
   ]
  },
  {
   "cell_type": "code",
   "execution_count": 36,
   "id": "15b08428-a245-495c-bb12-9ca3423c6537",
   "metadata": {},
   "outputs": [],
   "source": [
    "arr_2d = np.random.randint(0, 10, size=(6, 6))\n",
    "arr_2d[:, -1] = arr_2d[:, 0] + arr_2d[:, 1]\n"
   ]
  },
  {
   "cell_type": "code",
   "execution_count": null,
   "id": "4c8fe201-9dd5-48dc-946c-11a0634275ad",
   "metadata": {},
   "outputs": [],
   "source": []
  }
 ],
 "metadata": {
  "kernelspec": {
   "display_name": "Python 3 (ipykernel)",
   "language": "python",
   "name": "python3"
  },
  "language_info": {
   "codemirror_mode": {
    "name": "ipython",
    "version": 3
   },
   "file_extension": ".py",
   "mimetype": "text/x-python",
   "name": "python",
   "nbconvert_exporter": "python",
   "pygments_lexer": "ipython3",
   "version": "3.11.7"
  }
 },
 "nbformat": 4,
 "nbformat_minor": 5
}
