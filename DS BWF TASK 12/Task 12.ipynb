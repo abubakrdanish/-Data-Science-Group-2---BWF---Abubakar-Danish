{
 "cells": [
  {
   "cell_type": "code",
   "execution_count": 44,
   "id": "e7759dce-9203-4132-af5d-385ce3d66584",
   "metadata": {},
   "outputs": [
    {
     "name": "stdout",
     "output_type": "stream",
     "text": [
      "Series from list:\n",
      " 0    1\n",
      "1    2\n",
      "2    3\n",
      "3    4\n",
      "4    5\n",
      "dtype: int64\n",
      "Series from array:\n",
      " 0    10\n",
      "1    20\n",
      "2    30\n",
      "3    40\n",
      "4    50\n",
      "dtype: int32\n",
      "Series from dict:\n",
      " a    100\n",
      "b    200\n",
      "c    300\n",
      "dtype: int64\n"
     ]
    }
   ],
   "source": [
    "import pandas as pd\n",
    "import numpy as np\n",
    "list_data = [1, 2, 3, 4, 5]\n",
    "series_from_list = pd.Series(list_data)\n",
    "array_data = np.array([10, 20, 30, 40, 50])\n",
    "series_from_array = pd.Series(array_data)\n",
    "dict_data = {'a': 100, 'b': 200, 'c': 300}\n",
    "series_from_dict = pd.Series(dict_data)\n",
    "print(\"Series from list:\\n\", series_from_list)\n",
    "print(\"Series from array:\\n\", series_from_array)\n",
    "print(\"Series from dict:\\n\", series_from_dict)"
   ]
  },
  {
   "cell_type": "code",
   "execution_count": 47,
   "id": "f13d8e7b-2014-4968-83f1-8476a52dff33",
   "metadata": {},
   "outputs": [
    {
     "name": "stdout",
     "output_type": "stream",
     "text": [
      "Series with custom index:\n",
      " A    1\n",
      "B    2\n",
      "C    3\n",
      "D    4\n",
      "E    5\n",
      "dtype: int64\n"
     ]
    }
   ],
   "source": [
    "srs = pd.Series (list_data, index=['A','B','C','D','E'])\n",
    "print(\"Series with custom index:\\n\", srs)"
   ]
  },
  {
   "cell_type": "code",
   "execution_count": 8,
   "id": "9f0561dd-eeeb-454e-8138-d05b90af7252",
   "metadata": {},
   "outputs": [],
   "source": [
    "srs1 = pd.Series([1,2,3,4,5])\n",
    "srs2 = pd.Series([10,20,30,40,50])\n",
    "\n",
    "srs_sum = srs1 + srs2\n",
    "srs_diff = srs1 - srs2\n",
    "srs_prd = srs1 * srs2\n",
    "srs_quot = srs1 / srs2\n",
    "print(\"Sum of series:\\n\", series_sum)"
   ]
  },
  {
   "cell_type": "code",
   "execution_count": 48,
   "id": "8c5a2c10-62df-42ff-8791-7095b1cdb3a7",
   "metadata": {},
   "outputs": [
    {
     "name": "stdout",
     "output_type": "stream",
     "text": [
      "Element by label:\n",
      " a    10\n",
      "b    20\n",
      "c    30\n",
      "d    40\n",
      "e    50\n",
      "dtype: int64\n"
     ]
    }
   ],
   "source": [
    "ele = pd.Series([10, 20, 30, 40, 50], index=['a', 'b', 'c', 'd', 'e'])\n",
    "print(\"Element by label:\\n\", ele)"
   ]
  },
  {
   "cell_type": "code",
   "execution_count": 49,
   "id": "8b37070c-a53e-46bd-a65f-14ce17c83664",
   "metadata": {},
   "outputs": [
    {
     "name": "stdout",
     "output_type": "stream",
     "text": [
      "Filtered series:\n",
      " Series([], dtype: int64)\n"
     ]
    }
   ],
   "source": [
    "filter_srs = srs[srs > 20]\n",
    "print(\"Filtered series:\\n\", filter_srs)"
   ]
  },
  {
   "cell_type": "code",
   "execution_count": 50,
   "id": "baf5fda5-714c-498b-8796-468ba831d3e8",
   "metadata": {},
   "outputs": [
    {
     "name": "stdout",
     "output_type": "stream",
     "text": [
      "DataFrame from dict:\n",
      "       Name  Age         City\n",
      "0    Alice   25     New York\n",
      "1      Bob   30  Los Angeles\n",
      "2  Charlie   35      Chicago\n"
     ]
    }
   ],
   "source": [
    "data_dict = {\n",
    "    'Name' : ['Alice', 'Bob', 'Charlie'],\n",
    "    'Age' : [25,30,35],\n",
    "    'City' : ['New York' , 'Los Angeles', 'Chicago']\n",
    "}\n",
    "df_from_dict = pd.DataFrame(data_dict)\n",
    "print(\"DataFrame from dict:\\n\", df_from_dict)"
   ]
  },
  {
   "cell_type": "code",
   "execution_count": 51,
   "id": "75243216-4631-454f-b481-2299cbf2ecf6",
   "metadata": {},
   "outputs": [
    {
     "name": "stdout",
     "output_type": "stream",
     "text": [
      "DataFrame from array:\n",
      " [[1 2 3]\n",
      " [4 5 6]\n",
      " [7 8 9]]\n"
     ]
    }
   ],
   "source": [
    "array_data = np.array([[1, 2, 3], [4, 5, 6], [7, 8, 9]])\n",
    "df_from_array = pd.DataFrame(array_data, columns=['A', 'B', 'C'], index=['Row1', 'Row2', 'Row3'])\n",
    "print(\"DataFrame from array:\\n\", array_data)"
   ]
  },
  {
   "cell_type": "code",
   "execution_count": 29,
   "id": "426f35c9-884a-40e7-a1d8-2028288ae036",
   "metadata": {},
   "outputs": [],
   "source": [
    "import pandas as pd\n",
    "\n",
    "# Sample data\n",
    "data = {\n",
    "    'Name': ['Alice', 'Bob', 'Charlie', 'David', 'Eva'],\n",
    "    'Age': [25, 30, 35, 40, 22],\n",
    "    'City': ['New York', 'Los Angeles', 'Chicago', 'Houston', 'Phoenix'],\n",
    "    'Salary': [70000, 80000, 90000, 100000, 75000]\n",
    "}\n",
    "\n",
    "# Create a DataFrame\n",
    "df = pd.DataFrame(data)\n",
    "\n",
    "# Save the DataFrame to a CSV file\n",
    "df.to_csv('data.csv', index=False)\n"
   ]
  },
  {
   "cell_type": "code",
   "execution_count": 35,
   "id": "ae4e5c84-87d0-4b92-ac50-071167017396",
   "metadata": {},
   "outputs": [],
   "source": [
    "\n",
    "df_from_csv = pd.read_csv('data.csv')\n"
   ]
  },
  {
   "cell_type": "code",
   "execution_count": 52,
   "id": "fc315c40-e5d5-41a7-9962-bccb3ed87c7b",
   "metadata": {},
   "outputs": [
    {
     "name": "stdout",
     "output_type": "stream",
     "text": [
      "DataFrame from CSV first five rows:\n",
      "       Name  Age         City  Salary\n",
      "0    Alice   25     New York   70000\n",
      "1      Bob   30  Los Angeles   80000\n",
      "2  Charlie   35      Chicago   90000\n",
      "3    David   40      Houston  100000\n",
      "4      Eva   22      Phoenix   75000\n",
      "DataFrame from CSV last five rows:\n",
      "       Name  Age         City  Salary\n",
      "0    Alice   25     New York   70000\n",
      "1      Bob   30  Los Angeles   80000\n",
      "2  Charlie   35      Chicago   90000\n",
      "3    David   40      Houston  100000\n",
      "4      Eva   22      Phoenix   75000\n"
     ]
    }
   ],
   "source": [
    "first_five_rows = df_from_csv.head()\n",
    "last_five_rows = df_from_csv.tail()\n",
    "print(\"DataFrame from CSV first five rows:\\n\", first_five_rows)\n",
    "print(\"DataFrame from CSV last five rows:\\n\", last_five_rows)"
   ]
  },
  {
   "cell_type": "code",
   "execution_count": 43,
   "id": "d142c93e-1729-4004-93e1-97d2c6122bdf",
   "metadata": {},
   "outputs": [
    {
     "name": "stdout",
     "output_type": "stream",
     "text": [
      "Summary Statistics:\n",
      "              Age         Salary\n",
      "count   5.000000       5.000000\n",
      "mean   30.400000   83000.000000\n",
      "std     7.300685   12041.594579\n",
      "min    22.000000   70000.000000\n",
      "25%    25.000000   75000.000000\n",
      "50%    30.000000   80000.000000\n",
      "75%    35.000000   90000.000000\n",
      "max    40.000000  100000.000000\n",
      "Mean Values:\n",
      " Age          30.4\n",
      "Salary    83000.0\n",
      "dtype: float64\n",
      "Median Values:\n",
      " Age          30.0\n",
      "Salary    80000.0\n",
      "dtype: float64\n",
      "Standard Deviation Values:\n",
      " Age           7.300685\n",
      "Salary    12041.594579\n",
      "dtype: float64\n"
     ]
    }
   ],
   "source": [
    "mean_values = df_from_csv.select_dtypes(include='number').mean()\n",
    "median_values = df_from_csv.select_dtypes(include='number').median()\n",
    "std_values = df_from_csv.select_dtypes(include='number').std()\n",
    "\n",
    "print(\"Summary Statistics:\\n\", summary_statistics)\n",
    "print(\"Mean Values:\\n\", mean_values)\n",
    "print(\"Median Values:\\n\", median_values)\n",
    "print(\"Standard Deviation Values:\\n\", std_values)"
   ]
  },
  {
   "cell_type": "code",
   "execution_count": 53,
   "id": "35100077-cf0f-44d7-a217-b33c8641b162",
   "metadata": {},
   "outputs": [
    {
     "name": "stdout",
     "output_type": "stream",
     "text": [
      "Extracted column as Series:\n",
      " 0    25\n",
      "1    30\n",
      "2    35\n",
      "Name: Age, dtype: int64\n"
     ]
    }
   ],
   "source": [
    "age_series = df_from_dict['Age']\n",
    "print(\"Extracted column as Series:\\n\", age_series)"
   ]
  },
  {
   "cell_type": "code",
   "execution_count": 54,
   "id": "ee988201-b569-42a5-9bf1-0f3d23ce844a",
   "metadata": {},
   "outputs": [
    {
     "name": "stdout",
     "output_type": "stream",
     "text": [
      "Filtered DataFrame:\n",
      "       Name  Age     City\n",
      "2  Charlie   35  Chicago\n"
     ]
    }
   ],
   "source": [
    "filtered_df = df_from_dict[df_from_dict['Age'] > 30]\n",
    "print(\"Filtered DataFrame:\\n\", filtered_df)"
   ]
  },
  {
   "cell_type": "code",
   "execution_count": 55,
   "id": "1621560e-5f6a-4a70-b907-55d868ea3abe",
   "metadata": {},
   "outputs": [
    {
     "name": "stdout",
     "output_type": "stream",
     "text": [
      "DataFrame with multiple conditions:\n",
      "       Name  Age     City\n",
      "2  Charlie   35  Chicago\n"
     ]
    }
   ],
   "source": [
    "multiple_conditions_df = df_from_dict[(df_from_dict['Age'] > 25) & (df_from_dict['City'] == 'Chicago')]\n",
    "print(\"DataFrame with multiple conditions:\\n\", multiple_conditions_df)"
   ]
  },
  {
   "cell_type": "code",
   "execution_count": 41,
   "id": "a8ec5eb7-a08d-4a28-8b27-32cf4251921f",
   "metadata": {},
   "outputs": [],
   "source": [
    "df_from_dict['Salary'] = [50000, 60000, 70000]\n"
   ]
  },
  {
   "cell_type": "code",
   "execution_count": 42,
   "id": "45de0c2f-8828-4bc2-b369-9335da33dab6",
   "metadata": {},
   "outputs": [],
   "source": [
    "df_from_dict.drop(columns=['Salary'], inplace=True)\n"
   ]
  },
  {
   "cell_type": "code",
   "execution_count": null,
   "id": "66741592-888f-4bfb-824b-50fdbf3a11a2",
   "metadata": {},
   "outputs": [],
   "source": []
  }
 ],
 "metadata": {
  "kernelspec": {
   "display_name": "Python 3 (ipykernel)",
   "language": "python",
   "name": "python3"
  },
  "language_info": {
   "codemirror_mode": {
    "name": "ipython",
    "version": 3
   },
   "file_extension": ".py",
   "mimetype": "text/x-python",
   "name": "python",
   "nbconvert_exporter": "python",
   "pygments_lexer": "ipython3",
   "version": "3.11.7"
  }
 },
 "nbformat": 4,
 "nbformat_minor": 5
}
