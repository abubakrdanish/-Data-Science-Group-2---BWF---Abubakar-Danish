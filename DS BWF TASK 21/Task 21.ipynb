{
 "cells": [
  {
   "cell_type": "markdown",
   "metadata": {},
   "source": [
    "Linear Algebra Tasks\n"
   ]
  },
  {
   "cell_type": "markdown",
   "metadata": {},
   "source": [
    "    Matrix Creation and Manipulation\n",
    "\n"
   ]
  },
  {
   "cell_type": "code",
   "execution_count": 2,
   "metadata": {},
   "outputs": [
    {
     "name": "stdout",
     "output_type": "stream",
     "text": [
      "Zero Matrix:\n",
      " [[0. 0. 0.]\n",
      " [0. 0. 0.]\n",
      " [0. 0. 0.]]\n",
      "Identity Matrix:\n",
      " [[1. 0. 0.]\n",
      " [0. 1. 0.]\n",
      " [0. 0. 1.]]\n",
      "Random Matrix:\n",
      " [[0.3841849  0.41350595 0.66474277]\n",
      " [0.1938337  0.70226158 0.87078713]\n",
      " [0.90489513 0.32754462 0.81469846]]\n"
     ]
    }
   ],
   "source": [
    "import numpy as np\n",
    "zero_matrix = np.zeros((3,3))\n",
    "\n",
    "identity_matrix = np.eye(3)\n",
    "\n",
    "random_matrix = np.random.rand(3, 3)\n",
    "\n",
    "print(\"Zero Matrix:\\n\", zero_matrix)\n",
    "print(\"Identity Matrix:\\n\", identity_matrix)\n",
    "print(\"Random Matrix:\\n\", random_matrix)"
   ]
  },
  {
   "cell_type": "code",
   "execution_count": 4,
   "metadata": {},
   "outputs": [
    {
     "name": "stdout",
     "output_type": "stream",
     "text": [
      "Addition:\n",
      " [[17  9 12]\n",
      " [14 17 12]\n",
      " [ 8  0 15]]\n",
      "Subtraction:\n",
      " [[ 7 -1  0]\n",
      " [-4  1  8]\n",
      " [ 2  0 -7]]\n",
      "Multiplication:\n",
      " [[114  92 146]\n",
      " [136  97 158]\n",
      " [ 37  25  74]]\n"
     ]
    }
   ],
   "source": [
    "A = np.array([[12,4,6],[5,9,10],[5,0,4]])\n",
    "B = np.array([[5,5,6],[9,8,2],[3,0,11]])\n",
    "\n",
    "add_result = A + B\n",
    "\n",
    "sub_result = A - B\n",
    "\n",
    "mult_result = np.dot(A,B)\n",
    "\n",
    "print(\"Addition:\\n\",add_result)\n",
    "print(\"Subtraction:\\n\",sub_result)\n",
    "print(\"Multiplication:\\n\",mult_result)"
   ]
  },
  {
   "cell_type": "code",
   "execution_count": 5,
   "metadata": {},
   "outputs": [
    {
     "name": "stdout",
     "output_type": "stream",
     "text": [
      "Transpose:\n",
      " [[12  5  5]\n",
      " [ 4  9  0]\n",
      " [ 6 10  4]]\n",
      "Determinant:\n",
      " 282.00000000000006\n",
      "Inverse:\n",
      " [[ 0.12765957 -0.05673759 -0.04964539]\n",
      " [ 0.10638298  0.06382979 -0.31914894]\n",
      " [-0.15957447  0.07092199  0.31205674]]\n"
     ]
    }
   ],
   "source": [
    "transpose_A = A.T\n",
    "\n",
    "det_A = np.linalg.det(A)\n",
    "\n",
    "try:\n",
    "    inv_A = np.linalg.inv(A)\n",
    "except np.linalg.LinAlgError:\n",
    "    inv_A = \"Matrix is singular and cannot be inverted\"\n",
    "\n",
    "\n",
    "print(\"Transpose:\\n\", transpose_A)\n",
    "print(\"Determinant:\\n\", det_A)\n",
    "print(\"Inverse:\\n\", inv_A)"
   ]
  },
  {
   "cell_type": "markdown",
   "metadata": {},
   "source": [
    "Solving Linear Equations"
   ]
  },
  {
   "cell_type": "code",
   "execution_count": 6,
   "metadata": {},
   "outputs": [
    {
     "name": "stdout",
     "output_type": "stream",
     "text": [
      "Solution: [2. 3.]\n"
     ]
    }
   ],
   "source": [
    "coefficients = np.array([[3, 1], [1, 2]])\n",
    "\n",
    "constants = np.array([9, 8])\n",
    "\n",
    "solution = np.linalg.solve(coefficients, constants)\n",
    "print(\"Solution:\", solution)"
   ]
  },
  {
   "cell_type": "code",
   "execution_count": 7,
   "metadata": {},
   "outputs": [
    {
     "name": "stdout",
     "output_type": "stream",
     "text": [
      "P:\n",
      " [[1. 0. 0.]\n",
      " [0. 1. 0.]\n",
      " [0. 0. 1.]]\n",
      "L:\n",
      " [[ 1.          0.          0.        ]\n",
      " [ 0.41666667  1.          0.        ]\n",
      " [ 0.41666667 -0.22727273  1.        ]]\n",
      "U:\n",
      " [[12.          4.          6.        ]\n",
      " [ 0.          7.33333333  7.5       ]\n",
      " [ 0.          0.          3.20454545]]\n",
      "Q:\n",
      " [[-0.86154979  0.24206886 -0.44624503]\n",
      " [-0.35897908 -0.91203004  0.19833112]\n",
      " [-0.35897908  0.33106477  0.87265694]]\n",
      "R:\n",
      " [[-13.92838828  -6.67701088 -10.19500585]\n",
      " [  0.          -7.23999487  -6.34362812]\n",
      " [  0.           0.           2.79646884]]\n"
     ]
    }
   ],
   "source": [
    "from scipy.linalg import lu\n",
    "\n",
    "P, L, U = lu(A)\n",
    "print(\"P:\\n\", P)\n",
    "print(\"L:\\n\", L)\n",
    "print(\"U:\\n\", U)\n",
    "\n",
    "Q, R = np.linalg.qr(A)\n",
    "print(\"Q:\\n\", Q)\n",
    "print(\"R:\\n\", R)"
   ]
  },
  {
   "cell_type": "markdown",
   "metadata": {},
   "source": [
    "Eigenvalues and Eigenvectors"
   ]
  },
  {
   "cell_type": "code",
   "execution_count": 8,
   "metadata": {},
   "outputs": [
    {
     "name": "stdout",
     "output_type": "stream",
     "text": [
      "Eigenvalues: [17.97185538+0.j          3.51407231+1.82824973j  3.51407231-1.82824973j]\n",
      "Eigenvectors:\n",
      " [[ 0.69974101+0.j          0.04741958+0.18436188j  0.04741958-0.18436188j]\n",
      " [ 0.66907166+0.j         -0.84297484+0.j         -0.84297484-0.j        ]\n",
      " [ 0.25041091+0.j          0.43874011-0.24629779j  0.43874011+0.24629779j]]\n"
     ]
    }
   ],
   "source": [
    "eigvals, eigvecs = np.linalg.eig(A)\n",
    "print(\"Eigenvalues:\",eigvals)\n",
    "print(\"Eigenvectors:\\n\", eigvecs)"
   ]
  },
  {
   "cell_type": "code",
   "execution_count": 9,
   "metadata": {},
   "outputs": [
    {
     "name": "stdout",
     "output_type": "stream",
     "text": [
      "Reconstructed A:\n",
      " [[ 1.20000000e+01-6.83804741e-16j  4.00000000e+00+5.86681698e-16j\n",
      "   6.00000000e+00+6.18780379e-16j]\n",
      " [ 5.00000000e+00-9.22237360e-16j  9.00000000e+00+1.17222792e-15j\n",
      "   1.00000000e+01+1.71640089e-15j]\n",
      " [ 5.00000000e+00-7.32704082e-16j -1.52655666e-16+2.29736917e-16j\n",
      "   4.00000000e+00-6.33726168e-17j]]\n"
     ]
    }
   ],
   "source": [
    "reconstructed_A = eigvecs @ np.diag(eigvals) @ np.linalg.inv(eigvecs)\n",
    "print(\"Reconstructed A:\\n\", reconstructed_A)"
   ]
  },
  {
   "cell_type": "markdown",
   "metadata": {},
   "source": [
    "Vector Operations"
   ]
  },
  {
   "cell_type": "code",
   "execution_count": 10,
   "metadata": {},
   "outputs": [
    {
     "name": "stdout",
     "output_type": "stream",
     "text": [
      "Vector Addition: [14 32 19]\n",
      "Dot Product: 321\n",
      "Cross Product: [-149  102  -62]\n"
     ]
    }
   ],
   "source": [
    "u = np.array([2, 9, 10])\n",
    "v = np.array([12, 23, 9])\n",
    "\n",
    "vec_add = u + v\n",
    "print(\"Vector Addition:\", vec_add)\n",
    "\n",
    "dot_product = np.dot(u, v)\n",
    "print(\"Dot Product:\", dot_product)\n",
    "\n",
    "cross_product = np.cross(u, v)\n",
    "print(\"Cross Product:\", cross_product)"
   ]
  },
  {
   "cell_type": "code",
   "execution_count": 12,
   "metadata": {},
   "outputs": [
    {
     "name": "stdout",
     "output_type": "stream",
     "text": [
      "Normalized Vector: [0.14704292 0.66169316 0.73521462]\n",
      "L1 Norm: 21.0\n",
      "L2 Norm: 13.601470508735444\n"
     ]
    }
   ],
   "source": [
    "norm_u = u / np.linalg.norm(u)\n",
    "print(\"Normalized Vector:\", norm_u)\n",
    "\n",
    "l1_norm = np.linalg.norm(u, 1)\n",
    "l2_norm = np.linalg.norm(u, 2)\n",
    "print(\"L1 Norm:\", l1_norm)\n",
    "print(\"L2 Norm:\", l2_norm)"
   ]
  },
  {
   "cell_type": "markdown",
   "metadata": {},
   "source": [
    "Matrix Decomposition"
   ]
  },
  {
   "cell_type": "code",
   "execution_count": 14,
   "metadata": {},
   "outputs": [
    {
     "name": "stdout",
     "output_type": "stream",
     "text": [
      "Projected Data:\n",
      " [[-0.44362444 -0.20099093]\n",
      " [ 2.17719404 -0.05500992]\n",
      " [-0.57071239  0.36808609]\n",
      " [ 0.12902465  0.06747325]\n",
      " [-1.29188186 -0.17955849]]\n"
     ]
    }
   ],
   "source": [
    "data = np.array([[2.5, 2.4],[0.5, 0.7], [2.2, 2.9], [1.9, 2.2], [3.1, 3.0]])\n",
    "\n",
    "data_mean = np.mean(data, axis=0)\n",
    "centered_data = data - data_mean\n",
    "U, S, Vt = np.linalg.svd(centered_data)\n",
    "\n",
    "projected_data = centered_data @ Vt.T\n",
    "print(\"Projected Data:\\n\", projected_data)"
   ]
  },
  {
   "cell_type": "markdown",
   "metadata": {},
   "source": [
    "Calculus"
   ]
  },
  {
   "cell_type": "markdown",
   "metadata": {},
   "source": [
    "Numerical Differentiation"
   ]
  },
  {
   "cell_type": "code",
   "execution_count": 15,
   "metadata": {},
   "outputs": [
    {
     "name": "stdout",
     "output_type": "stream",
     "text": [
      "Forward Difference: [-16.99999    -16.5959496  -16.19190919 -15.78786879 -15.38382838\n",
      " -14.97978798 -14.57574757 -14.17170717 -13.76766677 -13.36362636\n",
      " -12.95958596 -12.55554556 -12.15150515 -11.74746475 -11.34342434\n",
      " -10.93938394 -10.53534353 -10.13130313  -9.72726273  -9.32322232\n",
      "  -8.91918192  -8.51514152  -8.11110111  -7.70706071  -7.3030203\n",
      "  -6.8989799   -6.49493949  -6.09089909  -5.68685869  -5.28281828\n",
      "  -4.87877788  -4.47473747  -4.07069707  -3.66665667  -3.26261626\n",
      "  -2.85857586  -2.45453545  -2.05049505  -1.64645465  -1.24241424\n",
      "  -0.83837384  -0.43433343  -0.03029303   0.37374737   0.77778778\n",
      "   1.18182818   1.58586859   1.98990899   2.39394939   2.7979898\n",
      "   3.2020302    3.60607061   4.01011101   4.41415141   4.81819182\n",
      "   5.22223222   5.62627263   6.03031303   6.43435343   6.83839384\n",
      "   7.24243424   7.64647465   8.05051505   8.45455545   8.85859586\n",
      "   9.26263626   9.66667667  10.07071707  10.47475747  10.87879788\n",
      "  11.28283828  11.68687869  12.09091909  12.49495949  12.8989999\n",
      "  13.3030403   13.70708071  14.11112111  14.51516151  14.91920192\n",
      "  15.32324232  15.72728273  16.13132313  16.53536354  16.93940394\n",
      "  17.34344434  17.74748475  18.15152515  18.55556556  18.95960596\n",
      "  19.36364636  19.76768677  20.17172717  20.57576757  20.97980798\n",
      "  21.38384838  21.78788879  22.19192919  22.5959696   23.00001   ]\n",
      "Backward Difference: [-17.00001    -16.59596959 -16.19192919 -15.78788879 -15.38384838\n",
      " -14.97980798 -14.57576758 -14.17172717 -13.76768677 -13.36364636\n",
      " -12.95960596 -12.55556556 -12.15152515 -11.74748475 -11.34344434\n",
      " -10.93940394 -10.53536354 -10.13132313  -9.72728273  -9.32324232\n",
      "  -8.91920192  -8.51516151  -8.11112111  -7.70708071  -7.3030403\n",
      "  -6.8989999   -6.49495949  -6.09091909  -5.68687869  -5.28283828\n",
      "  -4.87879788  -4.47475747  -4.07071707  -3.66667667  -3.26263626\n",
      "  -2.85859586  -2.45455545  -2.05051505  -1.64647465  -1.24243424\n",
      "  -0.83839384  -0.43435343  -0.03031303   0.37372737   0.77776778\n",
      "   1.18180818   1.58584859   1.98988899   2.39392939   2.7979698\n",
      "   3.2020102    3.60605061   4.01009101   4.41413141   4.81817182\n",
      "   5.22221222   5.62625263   6.03029303   6.43433343   6.83837384\n",
      "   7.24241424   7.64645465   8.05049505   8.45453545   8.85857586\n",
      "   9.26261626   9.66665667  10.07069707  10.47473747  10.87877788\n",
      "  11.28281828  11.68685869  12.09089909  12.49493949  12.8989799\n",
      "  13.3030203   13.70706071  14.11110111  14.51514151  14.91918192\n",
      "  15.32322232  15.72726273  16.13130313  16.53534353  16.93938394\n",
      "  17.34342434  17.74746475  18.15150515  18.55554555  18.95958596\n",
      "  19.36362636  19.76766677  20.17170717  20.57574758  20.97978798\n",
      "  21.38382838  21.78786879  22.19190919  22.5959496   22.99999   ]\n",
      "Central Difference: [-17.         -16.59595959 -16.19191919 -15.78787879 -15.38383838\n",
      " -14.97979798 -14.57575758 -14.17171717 -13.76767677 -13.36363636\n",
      " -12.95959596 -12.55555556 -12.15151515 -11.74747475 -11.34343434\n",
      " -10.93939394 -10.53535353 -10.13131313  -9.72727273  -9.32323232\n",
      "  -8.91919192  -8.51515151  -8.11111111  -7.70707071  -7.3030303\n",
      "  -6.8989899   -6.49494949  -6.09090909  -5.68686869  -5.28282828\n",
      "  -4.87878788  -4.47474747  -4.07070707  -3.66666667  -3.26262626\n",
      "  -2.85858586  -2.45454545  -2.05050505  -1.64646465  -1.24242424\n",
      "  -0.83838384  -0.43434343  -0.03030303   0.37373737   0.77777778\n",
      "   1.18181818   1.58585859   1.98989899   2.39393939   2.7979798\n",
      "   3.2020202    3.60606061   4.01010101   4.41414141   4.81818182\n",
      "   5.22222222   5.62626263   6.03030303   6.43434343   6.83838384\n",
      "   7.24242424   7.64646465   8.05050505   8.45454545   8.85858586\n",
      "   9.26262626   9.66666667  10.07070707  10.47474747  10.87878788\n",
      "  11.28282828  11.68686869  12.09090909  12.49494949  12.8989899\n",
      "  13.3030303   13.70707071  14.11111111  14.51515151  14.91919192\n",
      "  15.32323232  15.72727273  16.13131313  16.53535353  16.93939394\n",
      "  17.34343434  17.74747475  18.15151515  18.55555556  18.95959596\n",
      "  19.36363636  19.76767677  20.17171717  20.57575758  20.97979798\n",
      "  21.38383838  21.78787879  22.19191919  22.5959596   23.        ]\n"
     ]
    }
   ],
   "source": [
    "def f(x):\n",
    "    return x**2 + 3*x + 2\n",
    "\n",
    "x = np.linspace(-10, 10, 100)\n",
    "h = 1e-5\n",
    "\n",
    "forward_diff = (f(x+h) - f(x)) / h\n",
    "print(\"Forward Difference:\", forward_diff)\n",
    "\n",
    "backward_diff = (f(x) - f(x - h)) / h\n",
    "print(\"Backward Difference:\", backward_diff)\n",
    "\n",
    "central_diff = (f(x+h) - f(x-h)) / (2*h)\n",
    "print(\"Central Difference:\", central_diff)"
   ]
  },
  {
   "cell_type": "markdown",
   "metadata": {},
   "source": [
    "Numerical Integration"
   ]
  },
  {
   "cell_type": "code",
   "execution_count": 16,
   "metadata": {},
   "outputs": [
    {
     "name": "stdout",
     "output_type": "stream",
     "text": [
      "Trapezoidal Integral: 1.9998321638939927\n",
      "Simpson's Integral: 2.0000000534993037\n"
     ]
    },
    {
     "name": "stderr",
     "output_type": "stream",
     "text": [
      "C:\\Users\\abuba\\AppData\\Local\\Temp\\ipykernel_11108\\3765455774.py:12: DeprecationWarning: 'scipy.integrate.simps' is deprecated in favour of 'scipy.integrate.simpson' and will be removed in SciPy 1.14.0\n",
      "  simps_integral = simps(y, x)\n"
     ]
    }
   ],
   "source": [
    "def f(x):\n",
    "    return np.sin(x)\n",
    "\n",
    "x = np.linspace(0, np.pi, 100)\n",
    "y = f(x)\n",
    "\n",
    "trapz_integral = np.trapz(y, x)\n",
    "print(\"Trapezoidal Integral:\", trapz_integral)\n",
    "\n",
    "from scipy.integrate import simps\n",
    "\n",
    "simps_integral = simps(y, x)\n",
    "print(\"Simpson's Integral:\",simps_integral)"
   ]
  },
  {
   "cell_type": "markdown",
   "metadata": {},
   "source": [
    "Partial Derivatives"
   ]
  },
  {
   "cell_type": "code",
   "execution_count": 18,
   "metadata": {},
   "outputs": [
    {
     "name": "stdout",
     "output_type": "stream",
     "text": [
      "Partial Derivative w.r.t x:\n",
      " [[-9.99999   -9.7979698 -9.5959496 ...  9.5959696  9.7979898 10.00001  ]\n",
      " [-9.99999   -9.7979698 -9.5959496 ...  9.5959696  9.7979898 10.00001  ]\n",
      " [-9.99999   -9.7979698 -9.5959496 ...  9.5959696  9.7979898 10.00001  ]\n",
      " ...\n",
      " [-9.99999   -9.7979698 -9.5959496 ...  9.5959696  9.7979898 10.00001  ]\n",
      " [-9.99999   -9.7979698 -9.5959496 ...  9.5959696  9.7979898 10.00001  ]\n",
      " [-9.99999   -9.7979698 -9.5959496 ...  9.5959696  9.7979898 10.00001  ]]\n",
      "Partial Derivative w.r.t y:\n",
      " [[-9.99999   -9.99999   -9.99999   ... -9.99999   -9.99999   -9.99999  ]\n",
      " [-9.7979698 -9.7979698 -9.7979698 ... -9.7979698 -9.7979698 -9.7979698]\n",
      " [-9.5959496 -9.5959496 -9.5959496 ... -9.5959496 -9.5959496 -9.5959496]\n",
      " ...\n",
      " [ 9.5959696  9.5959696  9.5959696 ...  9.5959696  9.5959696  9.5959696]\n",
      " [ 9.7979898  9.7979898  9.7979898 ...  9.7979898  9.7979898  9.7979898]\n",
      " [10.00001   10.00001   10.00001   ... 10.00001   10.00001   10.00001  ]]\n"
     ]
    }
   ],
   "source": [
    "def f(x, y):\n",
    "    return x**2 + y**2\n",
    "\n",
    "x, y = np.meshgrid(np.linspace(-5, 5, 100), np.linspace(-5, 5, 100))\n",
    "h = 1e-5\n",
    "\n",
    "partial_x = (f(x + h,y) - f(x, y)) / h\n",
    "print(\"Partial Derivative w.r.t x:\\n\", partial_x)\n",
    "\n",
    "partial_y = (f(x, y+h) - f(x,y)) / h\n",
    "print(\"Partial Derivative w.r.t y:\\n\", partial_y)"
   ]
  },
  {
   "cell_type": "markdown",
   "metadata": {},
   "source": [
    "Optimization"
   ]
  },
  {
   "cell_type": "code",
   "execution_count": 23,
   "metadata": {},
   "outputs": [
    {
     "name": "stdout",
     "output_type": "stream",
     "text": [
      "Optimal Solution:  message: Optimization terminated successfully\n",
      " success: True\n",
      "  status: 0\n",
      "     fun: 0.5\n",
      "       x: [ 5.000e-01  5.000e-01]\n",
      "     nit: 1\n",
      "     jac: [ 1.000e+00  1.000e+00]\n",
      "    nfev: 3\n",
      "    njev: 1\n"
     ]
    }
   ],
   "source": [
    "from scipy.optimize import minimize\n",
    "\n",
    "def objective(x):\n",
    "    return x[0]**2 + x[1]**2\n",
    "\n",
    "cons = ({'type':'eq','fun': lambda x: x[0]+x[1] -1})\n",
    "x0 = [0.5, 0.5]\n",
    "\n",
    "result = minimize(objective, x0, constraints=cons)\n",
    "print(\"Optimal Solution:\", result)\n"
   ]
  },
  {
   "cell_type": "code",
   "execution_count": null,
   "metadata": {},
   "outputs": [],
   "source": []
  }
 ],
 "metadata": {
  "kernelspec": {
   "display_name": "Python 3",
   "language": "python",
   "name": "python3"
  },
  "language_info": {
   "codemirror_mode": {
    "name": "ipython",
    "version": 3
   },
   "file_extension": ".py",
   "mimetype": "text/x-python",
   "name": "python",
   "nbconvert_exporter": "python",
   "pygments_lexer": "ipython3",
   "version": "3.12.1"
  }
 },
 "nbformat": 4,
 "nbformat_minor": 2
}
