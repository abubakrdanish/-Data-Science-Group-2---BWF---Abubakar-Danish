{
 "cells": [
  {
   "cell_type": "code",
   "execution_count": null,
   "id": "ed375447-1454-427b-9a51-55e411b00bad",
   "metadata": {},
   "outputs": [
    {
     "name": "stdin",
     "output_type": "stream",
     "text": [
      "Enter 1 for add, 2 for subtraction, 3 for multiply, 4 for quotient:  3\n"
     ]
    }
   ],
   "source": [
    "sign = input(\"Enter 1 for add, 2 for subtraction, 3 for multiply, 4 for quotient: \")\n",
    "\n",
    "num1 = float(input(\"Enter the first number: \"))\n",
    "num2 = float(input(\"Enter the second number: \"))\n",
    "\n",
    "if sign == \"1\":\n",
    "    sum = num1 + num2\n",
    "    print(\"Sum:\", sum)\n",
    "elif sign == \"2\":\n",
    "    difference = num2 - num1\n",
    "    print(\"Difference:\", difference)\n",
    "elif sign == \"3\":\n",
    "    product = num1 * num2\n",
    "    print(\"Product:\", product)\n",
    "elif sign == \"4\":\n",
    "    if num2 != 0:\n",
    "        quotient = num1 / num2\n",
    "        print(\"Quotient:\", quotient)\n",
    "    else:\n",
    "        print(\"Error! Division by zero is not allowed.\")\n",
    "else:\n",
    "    print(\"Error! Please enter the correct number again.\")"
   ]
  },
  {
   "cell_type": "code",
   "execution_count": null,
   "id": "71135160-4357-4236-baac-49de5429dd82",
   "metadata": {},
   "outputs": [],
   "source": []
  }
 ],
 "metadata": {
  "kernelspec": {
   "display_name": "Python 3 (ipykernel)",
   "language": "python",
   "name": "python3"
  },
  "language_info": {
   "codemirror_mode": {
    "name": "ipython",
    "version": 3
   },
   "file_extension": ".py",
   "mimetype": "text/x-python",
   "name": "python",
   "nbconvert_exporter": "python",
   "pygments_lexer": "ipython3",
   "version": "3.11.7"
  }
 },
 "nbformat": 4,
 "nbformat_minor": 5
}
