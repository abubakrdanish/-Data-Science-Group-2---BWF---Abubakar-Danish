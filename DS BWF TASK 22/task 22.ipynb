{
 "cells": [
  {
   "cell_type": "code",
   "execution_count": 1,
   "metadata": {},
   "outputs": [],
   "source": [
    "import numpy as np\n",
    "\n",
    "def initialize_parameters(n_features):\n",
    "    w = np.zeros(n_features)\n",
    "    b = 0\n",
    "    return w, b"
   ]
  },
  {
   "cell_type": "code",
   "execution_count": 2,
   "metadata": {},
   "outputs": [],
   "source": [
    "def predict(X, w, b):\n",
    "    return np.dot(X, w) + b"
   ]
  },
  {
   "cell_type": "code",
   "execution_count": 3,
   "metadata": {},
   "outputs": [],
   "source": [
    "def compute_cost(X, y, w, b):\n",
    "    m = X.shape[0]\n",
    "    predictions = predict(X, w, b)\n",
    "    cost = (1 / (2 * m)) * np.sum((predictions - y) ** 2)\n",
    "    return cost"
   ]
  },
  {
   "cell_type": "code",
   "execution_count": 4,
   "metadata": {},
   "outputs": [],
   "source": [
    "def gradient_descent(X, y, w, b, learning_rate, num_iterations):\n",
    "    m = X.shape[0]\n",
    "    cost_history = []\n",
    "\n",
    "    for i in range(num_iterations):\n",
    "        predictions = predict(X, w, b)\n",
    "        dw = (1 / m) * np.dot(X.T, (predictions - y))\n",
    "        db = (1 / m) * np.sum(predictions - y)\n",
    "\n",
    "        w = w -learning_rate * dw\n",
    "        b = b -learning_rate * db\n",
    "        cost = compute_cost(X, y, w, b)\n",
    "        cost_history.append(cost)\n",
    "\n",
    "        if i % 100 == 0:\n",
    "            print(f\"Iteration {i}: Cost {cost}\")\n",
    "\n",
    "    return w, b, cost_history      \n",
    "\n",
    "  "
   ]
  },
  {
   "cell_type": "code",
   "execution_count": 5,
   "metadata": {},
   "outputs": [],
   "source": [
    "def linear_regression(X, y, learning_rate=0.01, num_iterations=1000):\n",
    "    n_features = X.shape[1]\n",
    "    w, b = initialize_parameters(n_features)\n",
    "    w, b, cost_history = gradient_descent(X, y, w, b, learning_rate, num_iterations)\n",
    "    return w, b, cost_history"
   ]
  },
  {
   "cell_type": "code",
   "execution_count": 6,
   "metadata": {},
   "outputs": [],
   "source": [
    "X = np.array([[1, 2], [2, 3], [4, 5], [3, 6]])\n",
    "y = np.array([2, 3, 4, 5])"
   ]
  },
  {
   "cell_type": "code",
   "execution_count": 8,
   "metadata": {},
   "outputs": [
    {
     "name": "stdout",
     "output_type": "stream",
     "text": [
      "Iteration 0: Cost 3.669146875\n",
      "Iteration 100: Cost 0.05111809845047303\n",
      "Iteration 200: Cost 0.036521113197442306\n",
      "Iteration 300: Cost 0.027243362835820913\n",
      "Iteration 400: Cost 0.021275806628612188\n",
      "Iteration 500: Cost 0.017385844502560328\n",
      "Iteration 600: Cost 0.014812996172026572\n",
      "Iteration 700: Cost 0.013084856317952184\n",
      "Iteration 800: Cost 0.01190555747666207\n",
      "Iteration 900: Cost 0.011087997137779986\n",
      "Weights: [-0.10506426  0.79336031]\n",
      "Bias: 0.5697477468462198\n"
     ]
    }
   ],
   "source": [
    "w, b, cost_history = linear_regression(X, y)\n",
    "print(f\"Weights: {w}\")\n",
    "print(f\"Bias: {b}\")"
   ]
  },
  {
   "cell_type": "code",
   "execution_count": 9,
   "metadata": {},
   "outputs": [
    {
     "name": "stdout",
     "output_type": "stream",
     "text": [
      "Predictions: [2.05140411 2.73970017 4.11629227 5.01471685]\n"
     ]
    }
   ],
   "source": [
    "predictions = predict(X, w, b)\n",
    "print(f\"Predictions: {predictions}\")"
   ]
  },
  {
   "cell_type": "code",
   "execution_count": 10,
   "metadata": {},
   "outputs": [
    {
     "name": "stdout",
     "output_type": "stream",
     "text": [
      "Final Cost: 0.010517358044748269\n"
     ]
    }
   ],
   "source": [
    "final_cost = compute_cost(X, y, w, b)\n",
    "print(f\"Final Cost: {final_cost}\")"
   ]
  },
  {
   "cell_type": "code",
   "execution_count": null,
   "metadata": {},
   "outputs": [],
   "source": []
  }
 ],
 "metadata": {
  "kernelspec": {
   "display_name": "Python 3 (ipykernel)",
   "language": "python",
   "name": "python3"
  },
  "language_info": {
   "codemirror_mode": {
    "name": "ipython",
    "version": 3
   },
   "file_extension": ".py",
   "mimetype": "text/x-python",
   "name": "python",
   "nbconvert_exporter": "python",
   "pygments_lexer": "ipython3",
   "version": "3.12.1"
  }
 },
 "nbformat": 4,
 "nbformat_minor": 2
}
