{
  "nbformat": 4,
  "nbformat_minor": 0,
  "metadata": {
    "colab": {
      "provenance": []
    },
    "kernelspec": {
      "name": "python3",
      "display_name": "Python 3"
    },
    "language_info": {
      "name": "python"
    }
  },
  "cells": [
    {
      "cell_type": "code",
      "execution_count": 14,
      "metadata": {
        "id": "F9Ekt0FS1xyT",
        "colab": {
          "base_uri": "https://localhost:8080/"
        },
        "outputId": "2130cd12-773f-40db-f8ad-aa6c96795908"
      },
      "outputs": [
        {
          "output_type": "stream",
          "name": "stdout",
          "text": [
            "(440, 10)\n",
            "(111, 10)\n"
          ]
        }
      ],
      "source": [
        "import pandas as pd\n",
        "from sklearn.model_selection import train_test_split\n",
        "from sklearn.preprocessing import StandardScaler, OneHotEncoder\n",
        "from sklearn.impute import SimpleImputer\n",
        "from sklearn.compose import ColumnTransformer\n",
        "from sklearn.pipeline import Pipeline\n",
        "from sklearn.decomposition import PCA\n",
        "\n",
        "df = pd.read_csv(\"FOOD-DATA-GROUP1.csv\")\n",
        "\n",
        "features = df.drop(columns=['Nutrition Density', 'Unnamed: 0.1', 'Unnamed: 0'])\n",
        "target = df['Nutrition Density']\n",
        "\n",
        "numerical_features = features.select_dtypes(include=['float64', 'int64']).columns.tolist()\n",
        "categorical_features = features.select_dtypes(include=['object']).columns.tolist()\n",
        "\n",
        "numerical_transformer = Pipeline(steps=[\n",
        "    ('imputer', SimpleImputer(strategy='mean')),\n",
        "    ('scaler', StandardScaler())\n",
        "])\n",
        "categorical_transformer = Pipeline(steps=[\n",
        "    ('imputer', SimpleImputer(strategy='most_frequent')),\n",
        "    ('onehot', OneHotEncoder(handle_unknown='ignore', sparse_output=False))\n",
        "])\n",
        "\n",
        "preprocessor = ColumnTransformer(\n",
        "    transformers=[\n",
        "        ('num', numerical_transformer, numerical_features),\n",
        "        ('cat', categorical_transformer, categorical_features)\n",
        "    ])\n",
        "\n",
        "\n",
        "X_train, X_test, y_train, y_test = train_test_split(features, target, test_size=0.2, random_state=42)\n",
        "\n",
        "X_train = preprocessor.fit_transform(X_train)\n",
        "X_test = preprocessor.transform(X_test)\n",
        "\n",
        "pca = PCA(n_components=10)\n",
        "X_train_pca = pca.fit_transform(X_train)\n",
        "X_test_pca = pca.transform(X_test)\n",
        "\n",
        "print(X_train_pca.shape)\n",
        "print(X_test_pca.shape)\n"
      ]
    },
    {
      "cell_type": "markdown",
      "source": [
        "## Principal Component Analysis (PCA)"
      ],
      "metadata": {
        "id": "coO3ZjIG8SzN"
      }
    },
    {
      "cell_type": "code",
      "source": [
        "from sklearn.decomposition import PCA\n",
        "\n",
        "pca = PCA(n_components=10)\n",
        "X_train_pca = pca.fit_transform(X_train)\n",
        "X_test_pca = pca.transform(X_test)"
      ],
      "metadata": {
        "id": "iWHCfvR93KhB"
      },
      "execution_count": 15,
      "outputs": []
    },
    {
      "cell_type": "markdown",
      "source": [
        "## t-Distributed Stochastic Neighbor Embedding (t-SNE)"
      ],
      "metadata": {
        "id": "4uOoV_Tt9Cvu"
      }
    },
    {
      "cell_type": "code",
      "source": [
        "from sklearn.manifold import TSNE\n",
        "tsne = TSNE(n_components=2, random_state=42)\n",
        "X_train_tsne = tsne.fit_transform(X_train)\n",
        "X_test_tsne = tsne.fit_transform(X_test)"
      ],
      "metadata": {
        "id": "zSjQTvuf6n2o"
      },
      "execution_count": 18,
      "outputs": []
    },
    {
      "cell_type": "markdown",
      "source": [
        "## Independent Component Analysis (ICA)"
      ],
      "metadata": {
        "id": "JRWwrI8f9I_N"
      }
    },
    {
      "cell_type": "code",
      "source": [
        "from sklearn.decomposition import FastICA\n",
        "\n",
        "ica = FastICA(n_components=10, random_state=42)\n",
        "X_train_ica = ica.fit_transform(X_train)\n",
        "X_test_ica = ica.transform(X_test)"
      ],
      "metadata": {
        "id": "6Wy8UPzT737o"
      },
      "execution_count": 19,
      "outputs": []
    },
    {
      "cell_type": "markdown",
      "source": [
        "## Feature Selection with SelectKBest"
      ],
      "metadata": {
        "id": "sPI_2at29nE9"
      }
    },
    {
      "cell_type": "code",
      "source": [
        "from sklearn.feature_selection import SelectKBest, f_regression\n",
        "\n",
        "select_kbest = SelectKBest(f_regression, k=10)\n",
        "X_train_kbest = select_kbest.fit_transform(X_train, y_train)\n",
        "X_test_kbest = select_kbest.transform(X_test)"
      ],
      "metadata": {
        "id": "jgFkmSqB9krQ"
      },
      "execution_count": 20,
      "outputs": []
    },
    {
      "cell_type": "markdown",
      "source": [
        "## Recursive Feature Elimination (RFE)"
      ],
      "metadata": {
        "id": "GT0sPgm9Ah5F"
      }
    },
    {
      "cell_type": "code",
      "source": [
        "from sklearn.feature_selection import RFE\n",
        "from sklearn.linear_model import LinearRegression\n",
        "\n",
        "\n",
        "rfe = RFE(estimator=LinearRegression(), n_features_to_select=10)\n",
        "X_train_rfe = rfe.fit_transform(X_train, y_train)\n",
        "X_test_rfe = rfe.transform(X_test)\n"
      ],
      "metadata": {
        "id": "yXgbkbZcAhho"
      },
      "execution_count": 22,
      "outputs": []
    },
    {
      "cell_type": "markdown",
      "source": [
        "## Evaluate Machine Learning Models and Training"
      ],
      "metadata": {
        "id": "5191zcQTAzd2"
      }
    },
    {
      "cell_type": "code",
      "source": [
        "from sklearn.ensemble import RandomForestRegressor\n",
        "from sklearn.metrics import mean_squared_error\n",
        "\n",
        "def train_and_evaluate(X_train, X_test, y_train, y_test):\n",
        "  model = RandomForestRegressor(random_state=42)\n",
        "  model.fit(X_train, y_train)\n",
        "  y_pred = model.predict(X_test)\n",
        "  mse = mean_squared_error(y_test, y_pred)\n",
        "  return mse\n",
        "\n",
        "mse_pca = train_and_evaluate(X_train_pca, X_test_pca, y_train, y_test)\n",
        "mse_tsne = train_and_evaluate(X_train_tsne, X_test_tsne, y_train, y_test)\n",
        "mse_ica = train_and_evaluate(X_train_ica, X_test_ica, y_train, y_test)\n",
        "mse_kbest = train_and_evaluate(X_train_kbest, X_test_kbest, y_train, y_test)\n",
        "mse_rfe = train_and_evaluate(X_train_rfe, X_test_rfe, y_train, y_test)\n",
        "\n",
        "\n",
        "print(f\"MSE with PCA: {mse_pca}\")\n",
        "print(f\"MSE with t-SNE: {mse_tsne}\")\n",
        "print(f\"MSE with ICA: {mse_ica}\")\n",
        "print(f\"MSE with SelectKBest: {mse_kbest}\")\n",
        "print(f\"MSE with RFE: {mse_rfe}\")\n"
      ],
      "metadata": {
        "colab": {
          "base_uri": "https://localhost:8080/"
        },
        "id": "dUhU5S2N-sZz",
        "outputId": "1195b623-5bda-40b8-9b9c-5fcbfd30bd08"
      },
      "execution_count": 23,
      "outputs": [
        {
          "output_type": "stream",
          "name": "stdout",
          "text": [
            "MSE with PCA: 6050.840597977944\n",
            "MSE with t-SNE: 32298.664481709016\n",
            "MSE with ICA: 5033.541170585949\n",
            "MSE with SelectKBest: 962.7522695686941\n",
            "MSE with RFE: 871.3214234252631\n"
          ]
        }
      ]
    },
    {
      "cell_type": "code",
      "source": [],
      "metadata": {
        "id": "P3DfCySnAZQ0"
      },
      "execution_count": null,
      "outputs": []
    }
  ]
}