{
 "cells": [
  {
   "cell_type": "code",
   "execution_count": 2,
   "id": "39827219-edab-43ec-bd39-bc85fa6fef59",
   "metadata": {},
   "outputs": [
    {
     "name": "stdout",
     "output_type": "stream",
     "text": [
      "[1, 5, 3, 4]\n",
      "[1, 5, 3, 4, 6]\n",
      "[1, 5, 4, 6]\n"
     ]
    }
   ],
   "source": [
    "my_list = [1, 2, 3, 4]\n",
    "\n",
    "first_element = my_list[0]\n",
    "\n",
    "my_list[1] = 5\n",
    "print(my_list)\n",
    "my_list.append(6)\n",
    "print(my_list)\n",
    "my_list.remove(3)\n",
    "\n",
    "print(my_list)"
   ]
  },
  {
   "cell_type": "code",
   "execution_count": 5,
   "id": "d822b55b-6ea9-4e09-861b-68de34923b0a",
   "metadata": {},
   "outputs": [],
   "source": [
    "my_tuple = (1, 2, 3, 4)\n",
    "\n",
    "first_element = my_tuple[0]\n",
    "\n"
   ]
  },
  {
   "cell_type": "code",
   "execution_count": 8,
   "id": "93cd662a-38a9-460c-977d-957660f3da72",
   "metadata": {},
   "outputs": [
    {
     "name": "stdout",
     "output_type": "stream",
     "text": [
      "{1, 2, 3, 4, 5}\n",
      "{1, 3, 4, 5}\n",
      "{1, 3, 4, 5, 6}\n"
     ]
    }
   ],
   "source": [
    "my_set = {1, 2, 3, 4}\n",
    "\n",
    "my_set.add(5)\n",
    "print(my_set)\n",
    "my_set.remove(2)\n",
    "print(my_set)\n",
    "my_set.add(6)\n",
    "print(my_set)"
   ]
  },
  {
   "cell_type": "code",
   "execution_count": 10,
   "id": "0d4d62e1-3a0e-41bd-ad37-19a61c7318e4",
   "metadata": {},
   "outputs": [
    {
     "name": "stdout",
     "output_type": "stream",
     "text": [
      "{'a': 1, 'b': 4, 'c': 3}\n",
      "{'a': 1, 'b': 4, 'c': 3, 'd': 5, 'e': 6}\n",
      "{'a': 1, 'b': 4, 'd': 5, 'e': 6}\n"
     ]
    }
   ],
   "source": [
    "my_dict = {'a' : 1,'b':2,'c':3}\n",
    "\n",
    "value_a = my_dict['a']\n",
    "\n",
    "my_dict['b'] = 4\n",
    "\n",
    "print(my_dict)\n",
    "\n",
    "my_dict['d']=5\n",
    "\n",
    "my_dict['e']=6\n",
    "print(my_dict)\n",
    "\n",
    "del my_dict['c']\n",
    "\n",
    "print(my_dict)"
   ]
  },
  {
   "cell_type": "code",
   "execution_count": 11,
   "id": "c13085fa-e82a-427c-92f6-4adbe4c44578",
   "metadata": {},
   "outputs": [
    {
     "name": "stdout",
     "output_type": "stream",
     "text": [
      "Product Product2 added successfully.\n",
      "Product Product3 added successfully.\n",
      "Stock for product ID ID001 updated successfully.\n",
      "Stock for product ID ID002 updated successfully.\n",
      "All Products: \n",
      "ID: ID001, Name: Product1, Category: Category1, Stock: 60\n",
      "ID: ID002, Name: Product2, Category: Category1, Stock: 25\n",
      "ID: ID003, Name: Product3, Category: Category2, Stock: 20\n",
      "Products in category Category1: \n",
      "ID: ID001, Name: Product1, Stock: 60\n",
      "ID: ID002, Name: Product2, Stock: 25\n",
      "Products in category Category2: \n",
      "ID: ID003, Name: Product3, Stock: 20\n"
     ]
    }
   ],
   "source": [
    "products = {\n",
    "    'ID001' : {'name':'Product1','category':'Category1','stock':50}\n",
    "}\n",
    "\n",
    "product_order = ['ID001']\n",
    "categories = {'Category1'}\n",
    "\n",
    "def add_product(product_id, name, category, stock):\n",
    "    if product_id in products:\n",
    "        print(f\"Product ID {product_id} already exists.\")\n",
    "        return\n",
    "\n",
    "    products[product_id] = {'name' : name, 'category' : category,'stock' : stock}\n",
    "    product_order.append(product_id)\n",
    "    categories.add(category)\n",
    "    print(f\"Product {name} added successfully.\")\n",
    "\n",
    "def update_stock(product_id, quantity):\n",
    "    if product_id not in products:\n",
    "        print(f\"Product ID {product_id} does not exist.\")\n",
    "        return\n",
    "\n",
    "    products[product_id]['stock'] += quantity\n",
    "    print(f\"Stock for product ID {product_id} updated successfully.\")\n",
    "\n",
    "def display_products():\n",
    "    print(\"All Products: \")\n",
    "    for product_id in product_order:\n",
    "        product = products[product_id]\n",
    "        print(f\"ID: {product_id}, Name: {product['name']}, Category: {product['category']}, Stock: {product['stock']}\")\n",
    "\n",
    "def display_by_category(category):\n",
    "    print(f\"Products in category {category}: \")\n",
    "    for product_id in product_order:\n",
    "        product = products[product_id]\n",
    "        if product['category'] == category:\n",
    "            print(f\"ID: {product_id}, Name: {product['name']}, Stock: {product['stock']}\")\n",
    "\n",
    "\n",
    "add_product('ID002','Product2','Category1',30)\n",
    "add_product('ID003','Product3','Category2',20)\n",
    "\n",
    "update_stock('ID001',10)\n",
    "update_stock('ID002',-5)\n",
    "\n",
    "display_products()\n",
    "display_by_category('Category1')\n",
    "display_by_category('Category2')"
   ]
  }
 ],
 "metadata": {
  "kernelspec": {
   "display_name": "Python 3 (ipykernel)",
   "language": "python",
   "name": "python3"
  },
  "language_info": {
   "codemirror_mode": {
    "name": "ipython",
    "version": 3
   },
   "file_extension": ".py",
   "mimetype": "text/x-python",
   "name": "python",
   "nbconvert_exporter": "python",
   "pygments_lexer": "ipython3",
   "version": "3.11.7"
  }
 },
 "nbformat": 4,
 "nbformat_minor": 5
}
