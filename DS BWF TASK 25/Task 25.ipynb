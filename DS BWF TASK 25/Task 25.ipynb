{
 "cells": [
  {
   "cell_type": "code",
   "execution_count": 1,
   "metadata": {},
   "outputs": [],
   "source": [
    "import numpy as np\n",
    "\n",
    "def sigmoid(z):\n",
    "    return 1 / (1 + np.exp(-z))\n"
   ]
  },
  {
   "cell_type": "code",
   "execution_count": 2,
   "metadata": {},
   "outputs": [],
   "source": [
    "def initialize_parameters(dim):\n",
    "    w = np.zeros((dim, 1))\n",
    "    b = 0\n",
    "    return w, b\n"
   ]
  },
  {
   "cell_type": "code",
   "execution_count": 3,
   "metadata": {},
   "outputs": [],
   "source": [
    "def hypothesis(X, w, b):\n",
    "    return sigmoid(np.dot(X, w) + b)"
   ]
  },
  {
   "cell_type": "code",
   "execution_count": 5,
   "metadata": {},
   "outputs": [],
   "source": [
    "def compute_cost(h, y):\n",
    "    m = y.shape[0]\n",
    "    cost = - (1 / m) * np.sum(y * np.log(h) + (1 - y) * np.log(1 - h))\n",
    "    return cost"
   ]
  },
  {
   "cell_type": "code",
   "execution_count": 6,
   "metadata": {},
   "outputs": [],
   "source": [
    "def compute_gradients(X, h, y):\n",
    "    m = X.shape[0]\n",
    "    dw = (1 / m) * np.dot(X.T, (h - y))\n",
    "    db = (1 / m) * np.sum(h - y)\n",
    "    return dw, db"
   ]
  },
  {
   "cell_type": "code",
   "execution_count": 7,
   "metadata": {},
   "outputs": [],
   "source": [
    "def gradient_descent(X, y, w, b, learning_rate, num_iterations):\n",
    "    for i in range(num_iterations):\n",
    "        h = hypothesis(X, w, b)\n",
    "        cost = compute_cost(h, y)\n",
    "        dw, db = compute_gradients(X, h, y)\n",
    "        \n",
    "        w -= learning_rate * dw\n",
    "        b -= learning_rate * db\n",
    "        \n",
    "        if i % 100 == 0:\n",
    "            print(f\"Cost after iteration {i}: {cost}\")\n",
    "    \n",
    "    return w, b"
   ]
  },
  {
   "cell_type": "code",
   "execution_count": 8,
   "metadata": {},
   "outputs": [],
   "source": [
    "def train(X, y, learning_rate = 0.01, num_iterations = 1000):\n",
    "    dim = X.shape[1]\n",
    "    w, b = initialize_parameters(dim)\n",
    "    w, b = gradient_descent(X, y, w, b, learning_rate, num_iterations)\n",
    "    return w, b"
   ]
  },
  {
   "cell_type": "code",
   "execution_count": 9,
   "metadata": {},
   "outputs": [],
   "source": [
    "def predict(X, w, b):\n",
    "    h = hypothesis(X, w, b)\n",
    "    return h >= 0.5"
   ]
  },
  {
   "cell_type": "code",
   "execution_count": 10,
   "metadata": {},
   "outputs": [
    {
     "name": "stdout",
     "output_type": "stream",
     "text": [
      "Cost after iteration 0: 0.6931471805599454\n",
      "Cost after iteration 100: 0.48794438941439006\n",
      "Cost after iteration 200: 0.45498540737502413\n",
      "Cost after iteration 300: 0.4288359299534194\n",
      "Cost after iteration 400: 0.4049797066678389\n",
      "Cost after iteration 500: 0.3829999716299941\n",
      "Cost after iteration 600: 0.36272986097489857\n",
      "Cost after iteration 700: 0.3440274034617455\n",
      "Cost after iteration 800: 0.3267601588154301\n",
      "Cost after iteration 900: 0.3108046880282139\n",
      "Predictions: [[ True]\n",
      " [ True]]\n"
     ]
    }
   ],
   "source": [
    "if __name__ == \"__main__\":\n",
    "    # Example dataset (X: features, y: labels)\n",
    "    X = np.array([[0.5, 1.2], [1.3, 3.4], [3.2, 2.3], [0.8, 0.5], [2.7, 2.8]])\n",
    "    y = np.array([[0], [1], [1], [0], [1]])\n",
    "\n",
    "    # Train the model\n",
    "    w, b = train(X, y, learning_rate=0.01, num_iterations=1000)\n",
    "\n",
    "    # Predict on new data\n",
    "    X_new = np.array([[1.5, 2.5], [1.0, 1.0]])\n",
    "    predictions = predict(X_new, w, b)\n",
    "    print(\"Predictions:\", predictions)"
   ]
  },
  {
   "cell_type": "code",
   "execution_count": null,
   "metadata": {},
   "outputs": [],
   "source": []
  }
 ],
 "metadata": {
  "kernelspec": {
   "display_name": "Python 3",
   "language": "python",
   "name": "python3"
  },
  "language_info": {
   "codemirror_mode": {
    "name": "ipython",
    "version": 3
   },
   "file_extension": ".py",
   "mimetype": "text/x-python",
   "name": "python",
   "nbconvert_exporter": "python",
   "pygments_lexer": "ipython3",
   "version": "3.12.1"
  }
 },
 "nbformat": 4,
 "nbformat_minor": 2
}
