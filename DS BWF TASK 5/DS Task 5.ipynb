{
 "cells": [
  {
   "cell_type": "code",
   "execution_count": 4,
   "id": "f4a20dea-3abf-4d85-bc7d-6e040e6e0628",
   "metadata": {},
   "outputs": [
    {
     "name": "stdin",
     "output_type": "stream",
     "text": [
      "Enter the number of rows you need to print of stars:  5\n"
     ]
    },
    {
     "name": "stdout",
     "output_type": "stream",
     "text": [
      "*\n",
      "**\n",
      "***\n",
      "****\n",
      "*****\n"
     ]
    }
   ],
   "source": [
    "rows = int(input(\"Enter the number of rows you need to print of stars: \"))\n",
    "\n",
    "for i in range(rows):\n",
    "\n",
    "    for j in range(i + 1):\n",
    "        print(\"*\", end=\"\")\n",
    "\n",
    "    print(\"\")"
   ]
  },
  {
   "cell_type": "code",
   "execution_count": 6,
   "id": "443f5e19-8125-4d9d-a37e-ea8b07ea5fc8",
   "metadata": {},
   "outputs": [
    {
     "name": "stdin",
     "output_type": "stream",
     "text": [
      "Enter number of rows for the pyramid pattern:  5\n"
     ]
    },
    {
     "name": "stdout",
     "output_type": "stream",
     "text": [
      "    *\n",
      "   ***\n",
      "  *****\n",
      " *******\n",
      "*********\n"
     ]
    }
   ],
   "source": [
    "rows = int(input(\"Enter number of rows for the pyramid pattern: \"))\n",
    "\n",
    "for i in range(rows):\n",
    "    for j in range(rows - i -1):\n",
    "        print(\" \",end=\"\")\n",
    "    for j in  range(2 * i + 1):\n",
    "        print(\"*\",end=\"\")\n",
    "\n",
    "    print(\"\")"
   ]
  },
  {
   "cell_type": "code",
   "execution_count": 9,
   "id": "dda548ca-134d-4d96-9887-fc773c9ce945",
   "metadata": {},
   "outputs": [
    {
     "name": "stdin",
     "output_type": "stream",
     "text": [
      "Enter number of rows for the pyramid pattern:  6\n"
     ]
    },
    {
     "name": "stdout",
     "output_type": "stream",
     "text": [
      "***********\n",
      " *********\n",
      "  *******\n",
      "   *****\n",
      "    ***\n",
      "     *\n"
     ]
    }
   ],
   "source": [
    "rows = int(input(\"Enter number of rows for the pyramid pattern: \"))\n",
    "k=rows-1\n",
    "for i in range(rows):\n",
    "    for j in range(rows - k -1):\n",
    "        \n",
    "        print(\" \",end=\"\")\n",
    "    for j in  range(2 * k + 1):\n",
    "        print(\"*\",end=\"\")\n",
    "    k=k-1\n",
    "    print(\"\")"
   ]
  },
  {
   "cell_type": "code",
   "execution_count": 21,
   "id": "d71bf20d-8c25-4721-ba19-4b610228f76f",
   "metadata": {},
   "outputs": [
    {
     "name": "stdin",
     "output_type": "stream",
     "text": [
      "Enter the number of rows you need to print of Numbers:  5\n"
     ]
    },
    {
     "name": "stdout",
     "output_type": "stream",
     "text": [
      "0\n",
      "12\n",
      "345\n",
      "6789\n",
      "1011121314\n"
     ]
    }
   ],
   "source": [
    "rows = int(input(\"Enter the number of rows you need to print of Numbers: \"))\n",
    "k=0\n",
    "for i in range(rows):\n",
    "\n",
    "    for j in range(i + 1):\n",
    "        \n",
    "        print(k, end=\"\")\n",
    "        k=k+1\n",
    "    print(\"\")"
   ]
  },
  {
   "cell_type": "code",
   "execution_count": 20,
   "id": "6c513ace-a103-4f8c-8522-a127de7e99b6",
   "metadata": {},
   "outputs": [
    {
     "name": "stdin",
     "output_type": "stream",
     "text": [
      "Enter number of rows for the pyramid pattern:  5\n"
     ]
    },
    {
     "name": "stdout",
     "output_type": "stream",
     "text": [
      "    A\n",
      "   ABC\n",
      "  ABCDE\n",
      " ABCDEFG\n",
      "ABCDEFGHI\n"
     ]
    }
   ],
   "source": [
    "rows = int(input(\"Enter number of rows for the pyramid pattern: \"))\n",
    "\n",
    "for i in range(rows):\n",
    "    for j in range(rows - i -1):\n",
    "        print(\" \",end=\"\")\n",
    "    for j in  range(2 * i + 1):\n",
    "        print(chr(65 + j), end=\"\")\n",
    "\n",
    "    print(\"\")"
   ]
  },
  {
   "cell_type": "code",
   "execution_count": null,
   "id": "1f32eaaf-1014-4255-9526-f19ae299b1da",
   "metadata": {},
   "outputs": [],
   "source": []
  }
 ],
 "metadata": {
  "kernelspec": {
   "display_name": "Python 3 (ipykernel)",
   "language": "python",
   "name": "python3"
  },
  "language_info": {
   "codemirror_mode": {
    "name": "ipython",
    "version": 3
   },
   "file_extension": ".py",
   "mimetype": "text/x-python",
   "name": "python",
   "nbconvert_exporter": "python",
   "pygments_lexer": "ipython3",
   "version": "3.11.7"
  }
 },
 "nbformat": 4,
 "nbformat_minor": 5
}
