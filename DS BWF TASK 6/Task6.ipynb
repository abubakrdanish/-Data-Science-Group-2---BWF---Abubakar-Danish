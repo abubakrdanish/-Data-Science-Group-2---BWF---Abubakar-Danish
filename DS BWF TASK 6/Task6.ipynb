{
 "cells": [
  {
   "cell_type": "code",
   "execution_count": 7,
   "id": "29438d65-c4e4-4009-ac43-21f3cfe34749",
   "metadata": {},
   "outputs": [
    {
     "name": "stdout",
     "output_type": "stream",
     "text": [
      "\n",
      "Options:\n",
      "1. Add Student\n",
      "2. Search Student\n",
      "3. Delete Student\n",
      "4. Display Students\n",
      "5. Exit\n"
     ]
    },
    {
     "name": "stdin",
     "output_type": "stream",
     "text": [
      "Choose an option:  5\n"
     ]
    }
   ],
   "source": [
    "import os\n",
    "\n",
    "class Student:\n",
    "    def __init__(self, student_id, student_name, student_age, student_grade):\n",
    "        self.student_id = student_id\n",
    "        self.student_name = student_name\n",
    "        self.student_age = student_age\n",
    "        self.student_grade = student_grade\n",
    "\n",
    "    @classmethod\n",
    "    def load_students(cls):\n",
    "        students = []\n",
    "        if os.path.exists('students.txt'):\n",
    "            with open('students.txt','r') as file:\n",
    "                for line in file:\n",
    "                    student_id, student_name, student_age, student_grade = line.strip().split(',')\n",
    "                    students.append(Student(student_id, student_name, student_age, student_grade))\n",
    "        return students\n",
    "\n",
    "    @classmethod\n",
    "    def save_students(cls, students):\n",
    "        with open('students.txt','w') as file:\n",
    "            for student in students:\n",
    "                file.write(f\"{student.student_id},{student.student_name},{student.student_age},{student.student_grade}\\n\")\n",
    "\n",
    "    @classmethod\n",
    "    def search_student(cls, students, student_id):\n",
    "        for student in students:\n",
    "            if student.student_id == student_id:\n",
    "                return student\n",
    "        return None\n",
    "\n",
    "    @classmethod\n",
    "    def delete_student(cls, students, student_id):\n",
    "        for i, student in enumerate(students):\n",
    "            if student.student_id == student_id:\n",
    "                del students[i]\n",
    "                return\n",
    "\n",
    "    @classmethod\n",
    "    def display_students(cls, students):\n",
    "        print(\"Students List: \")\n",
    "        for student in students:\n",
    "            print(f\"ID: {student.student_id}, Name: {student.student_name}, Age:{student.student_age}, Grade: {student.student_grade}\")\n",
    "\n",
    "\n",
    "students = Student.load_students()\n",
    "while True:\n",
    "    print(\"\\nOptions:\")\n",
    "    print(\"1. Add Student\")\n",
    "    print(\"2. Search Student\")\n",
    "    print(\"3. Delete Student\")\n",
    "    print(\"4. Display Students\")\n",
    "    print(\"5. Exit\")\n",
    "    choice = input(\"Choose an option: \")\n",
    "    if choice == '1':\n",
    "        student_id = input (\"Enter student ID: \")\n",
    "        if Student.search_student(students, student_id):\n",
    "            print(\"Student ID already exists!\")\n",
    "            continue\n",
    "        student_name = input(\"Enter student name: \")\n",
    "        student_age = input(\"Enter student age: \")\n",
    "        student_grade = input(\"Enter student grade: \")\n",
    "        students.append(Student(student_id, student_name, student_age, student_grade))\n",
    "        Student.save_students(students)\n",
    "\n",
    "    elif choice == '2':\n",
    "        student_id = input(\"Enter student ID to search: \")\n",
    "        student = Student.search_student(students, student_id)\n",
    "        if student:\n",
    "            print(f\"Student ID: {student.student_id}, Name: {student.student_name}, Age: {student.student_age}, Grade: {student.student_grade}\")\n",
    "        else:\n",
    "            print(\"Student not found!\")\n",
    "    elif choice == '3':\n",
    "        student_id = input(\"Enter student ID to delete: \")\n",
    "        Student.delete_student(students, student_id)\n",
    "        Student.save_students(students)\n",
    "    elif choice == '4':\n",
    "        Student.display_students(students)\n",
    "    elif choice == '5':\n",
    "        break\n",
    "    else:\n",
    "        print(\"Invalid option!\")"
   ]
  },
  {
   "cell_type": "code",
   "execution_count": null,
   "id": "64fcc726-0d09-4f8e-9a7f-6059a55dd365",
   "metadata": {},
   "outputs": [],
   "source": []
  }
 ],
 "metadata": {
  "kernelspec": {
   "display_name": "Python 3 (ipykernel)",
   "language": "python",
   "name": "python3"
  },
  "language_info": {
   "codemirror_mode": {
    "name": "ipython",
    "version": 3
   },
   "file_extension": ".py",
   "mimetype": "text/x-python",
   "name": "python",
   "nbconvert_exporter": "python",
   "pygments_lexer": "ipython3",
   "version": "3.11.7"
  }
 },
 "nbformat": 4,
 "nbformat_minor": 5
}
