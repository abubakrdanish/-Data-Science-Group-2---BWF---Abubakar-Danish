{
 "cells": [
  {
   "cell_type": "code",
   "execution_count": 1,
   "id": "a8ef3008-fbea-43b4-a244-193f672437df",
   "metadata": {},
   "outputs": [
    {
     "name": "stdout",
     "output_type": "stream",
     "text": [
      "First five rows:\n",
      "   Age  Sex  Chest pain type   BP  Cholesterol  FBS over 120  EKG results  \\\n",
      "0   70    1                4  130          322             0            2   \n",
      "1   67    0                3  115          564             0            2   \n",
      "2   57    1                2  124          261             0            0   \n",
      "3   64    1                4  128          263             0            0   \n",
      "4   74    0                2  120          269             0            2   \n",
      "\n",
      "   Max HR  Exercise angina  ST depression  Slope of ST  \\\n",
      "0     109                0            2.4            2   \n",
      "1     160                0            1.6            2   \n",
      "2     141                0            0.3            1   \n",
      "3     105                1            0.2            2   \n",
      "4     121                1            0.2            1   \n",
      "\n",
      "   Number of vessels fluro  Thallium Heart Disease  \n",
      "0                        3         3      Presence  \n",
      "1                        0         7       Absence  \n",
      "2                        0         7      Presence  \n",
      "3                        1         7       Absence  \n",
      "4                        1         3       Absence  \n",
      "\n",
      "Last five rows:\n",
      "     Age  Sex  Chest pain type   BP  Cholesterol  FBS over 120  EKG results  \\\n",
      "265   52    1                3  172          199             1            0   \n",
      "266   44    1                2  120          263             0            0   \n",
      "267   56    0                2  140          294             0            2   \n",
      "268   57    1                4  140          192             0            0   \n",
      "269   67    1                4  160          286             0            2   \n",
      "\n",
      "     Max HR  Exercise angina  ST depression  Slope of ST  \\\n",
      "265     162                0            0.5            1   \n",
      "266     173                0            0.0            1   \n",
      "267     153                0            1.3            2   \n",
      "268     148                0            0.4            2   \n",
      "269     108                1            1.5            2   \n",
      "\n",
      "     Number of vessels fluro  Thallium Heart Disease  \n",
      "265                        0         7       Absence  \n",
      "266                        0         7       Absence  \n",
      "267                        0         3       Absence  \n",
      "268                        0         6       Absence  \n",
      "269                        3         3      Presence  \n"
     ]
    }
   ],
   "source": [
    "import pandas as pd \n",
    "\n",
    "df = pd.read_csv('Heart_Disease_Prediction.csv')\n",
    "\n",
    "print(\"First five rows:\")\n",
    "print(df.head())\n",
    "\n",
    "print(\"\\nLast five rows:\")\n",
    "print(df.tail())\n"
   ]
  },
  {
   "cell_type": "code",
   "execution_count": 3,
   "id": "8ab561b7-c48a-4cfe-8ee0-8d9321dd7cbf",
   "metadata": {},
   "outputs": [],
   "source": [
    "df.set_index('Sex' , inplace=True)"
   ]
  },
  {
   "cell_type": "code",
   "execution_count": 6,
   "id": "aeb60206-8827-401f-a034-622f243f8a07",
   "metadata": {},
   "outputs": [
    {
     "name": "stdout",
     "output_type": "stream",
     "text": [
      "Sex\n",
      "1    130\n",
      "0    115\n",
      "1    124\n",
      "1    128\n",
      "0    120\n",
      "    ... \n",
      "1    172\n",
      "1    120\n",
      "0    140\n",
      "1    140\n",
      "1    160\n",
      "Name: BP, Length: 270, dtype: int64\n"
     ]
    }
   ],
   "source": [
    "print(df['BP'])"
   ]
  },
  {
   "cell_type": "code",
   "execution_count": 8,
   "id": "cfdd427c-9251-4772-aa1d-ba08c6a9163f",
   "metadata": {},
   "outputs": [
    {
     "name": "stdout",
     "output_type": "stream",
     "text": [
      "     Age   BP Heart Disease\n",
      "Sex                        \n",
      "1     70  130      Presence\n",
      "0     67  115       Absence\n",
      "1     57  124      Presence\n",
      "1     64  128       Absence\n",
      "0     74  120       Absence\n",
      "..   ...  ...           ...\n",
      "1     52  172       Absence\n",
      "1     44  120       Absence\n",
      "0     56  140       Absence\n",
      "1     57  140       Absence\n",
      "1     67  160      Presence\n",
      "\n",
      "[270 rows x 3 columns]\n"
     ]
    }
   ],
   "source": [
    "select_column = ['Age','BP','Heart Disease']\n",
    "print(df[select_column])"
   ]
  },
  {
   "cell_type": "code",
   "execution_count": 11,
   "id": "2abfd87d-2948-4f97-bba8-bb35b3548305",
   "metadata": {},
   "outputs": [
    {
     "name": "stdout",
     "output_type": "stream",
     "text": [
      "Empty DataFrame\n",
      "Columns: [Age, Chest pain type, BP, Cholesterol, FBS over 120, EKG results, Max HR, Exercise angina, ST depression, Slope of ST, Number of vessels fluro, Thallium, Heart Disease]\n",
      "Index: []\n"
     ]
    }
   ],
   "source": [
    "subset_loc = (df.loc[df['Slope of ST'] == '2'])\n",
    "print(subset_loc)"
   ]
  },
  {
   "cell_type": "code",
   "execution_count": 12,
   "id": "1d657ab7-8091-42b5-a3a9-8bec10e8d4e2",
   "metadata": {},
   "outputs": [
    {
     "name": "stdout",
     "output_type": "stream",
     "text": [
      "     Chest pain type   BP  Cholesterol\n",
      "Sex                                   \n",
      "1                  4  130          322\n",
      "0                  3  115          564\n",
      "1                  2  124          261\n",
      "1                  4  128          263\n",
      "0                  2  120          269\n"
     ]
    }
   ],
   "source": [
    "subset_iloc = df.iloc[0:5, 1:4]\n",
    "print(subset_iloc)"
   ]
  },
  {
   "cell_type": "code",
   "execution_count": 13,
   "id": "e2b11350-a199-4639-9b71-db9530e48119",
   "metadata": {},
   "outputs": [
    {
     "name": "stdout",
     "output_type": "stream",
     "text": [
      "     Age  Chest pain type   BP  Cholesterol  FBS over 120  EKG results  \\\n",
      "Sex                                                                      \n",
      "1     70                4  130          322             0            2   \n",
      "0     67                3  115          564             0            2   \n",
      "1     57                2  124          261             0            0   \n",
      "1     64                4  128          263             0            0   \n",
      "0     74                2  120          269             0            2   \n",
      "..   ...              ...  ...          ...           ...          ...   \n",
      "1     52                3  172          199             1            0   \n",
      "1     44                2  120          263             0            0   \n",
      "0     56                2  140          294             0            2   \n",
      "1     57                4  140          192             0            0   \n",
      "1     67                4  160          286             0            2   \n",
      "\n",
      "     Max HR  Exercise angina  ST depression  Slope of ST  \\\n",
      "Sex                                                        \n",
      "1       109                0            2.4            2   \n",
      "0       160                0            1.6            2   \n",
      "1       141                0            0.3            1   \n",
      "1       105                1            0.2            2   \n",
      "0       121                1            0.2            1   \n",
      "..      ...              ...            ...          ...   \n",
      "1       162                0            0.5            1   \n",
      "1       173                0            0.0            1   \n",
      "0       153                0            1.3            2   \n",
      "1       148                0            0.4            2   \n",
      "1       108                1            1.5            2   \n",
      "\n",
      "     Number of vessels fluro  Thallium Heart Disease  \n",
      "Sex                                                   \n",
      "1                          3         3      Presence  \n",
      "0                          0         7       Absence  \n",
      "1                          0         7      Presence  \n",
      "1                          1         7       Absence  \n",
      "0                          1         3       Absence  \n",
      "..                       ...       ...           ...  \n",
      "1                          0         7       Absence  \n",
      "1                          0         7       Absence  \n",
      "0                          0         3       Absence  \n",
      "1                          0         6       Absence  \n",
      "1                          3         3      Presence  \n",
      "\n",
      "[270 rows x 13 columns]\n"
     ]
    }
   ],
   "source": [
    "filter_age = df[df['BP']  > 30]\n",
    "print(filter_age)"
   ]
  },
  {
   "cell_type": "code",
   "execution_count": 15,
   "id": "85b21b6c-e5cc-493e-9f00-f64adc53be41",
   "metadata": {},
   "outputs": [
    {
     "name": "stdout",
     "output_type": "stream",
     "text": [
      "Sex\n",
      "0    55.678161\n",
      "1    53.841530\n",
      "Name: Age, dtype: float64\n"
     ]
    }
   ],
   "source": [
    "mean_age = df.groupby('Sex')['Age'].mean()\n",
    "print(mean_age)"
   ]
  },
  {
   "cell_type": "code",
   "execution_count": 16,
   "id": "da3b5d29-7435-4b7c-8e66-4338c2d71834",
   "metadata": {},
   "outputs": [
    {
     "name": "stdout",
     "output_type": "stream",
     "text": [
      "Sex  Age\n",
      "0    34     0\n",
      "     35     0\n",
      "     37     0\n",
      "     39     0\n",
      "     41     1\n",
      "           ..\n",
      "1    67     9\n",
      "     68     1\n",
      "     69     4\n",
      "     70     4\n",
      "     77     3\n",
      "Name: Number of vessels fluro, Length: 73, dtype: int64\n"
     ]
    }
   ],
   "source": [
    "sum_salary = df.groupby(['Sex', 'Age'])['Number of vessels fluro'].sum()\n",
    "print(sum_salary)"
   ]
  },
  {
   "cell_type": "code",
   "execution_count": 17,
   "id": "20e6a99b-12b4-41d0-98e5-25aa1d69f31b",
   "metadata": {},
   "outputs": [
    {
     "name": "stdout",
     "output_type": "stream",
     "text": [
      "           Age            Cholesterol            \n",
      "          mean median max        mean median  max\n",
      "Sex                                              \n",
      "0    55.678161   57.0  76  264.747126  263.0  564\n",
      "1    53.841530   54.0  77  242.486339  239.0  353\n"
     ]
    }
   ],
   "source": [
    "grouped = df.groupby('Sex').agg({\n",
    "    'Age': ['mean', 'median', 'max'],\n",
    "    'Cholesterol': ['mean', 'median', 'max']\n",
    "})\n",
    "\n",
    "print(grouped)"
   ]
  },
  {
   "cell_type": "code",
   "execution_count": 19,
   "id": "38b02077-83f7-44b3-80f9-0e7a8c8e5dfb",
   "metadata": {},
   "outputs": [
    {
     "name": "stdout",
     "output_type": "stream",
     "text": [
      "<pandas.core.groupby.generic.DataFrameGroupBy object at 0x000001E364286710>\n"
     ]
    }
   ],
   "source": [
    "group_size = df.groupby('Heart Disease')\n",
    "print(group_size)"
   ]
  },
  {
   "cell_type": "code",
   "execution_count": 26,
   "id": "dbd09cd4-9d05-4c44-b033-29a43ef1e0a0",
   "metadata": {},
   "outputs": [
    {
     "name": "stdout",
     "output_type": "stream",
     "text": [
      "     Age  Chest pain type   BP  Cholesterol  FBS over 120  EKG results  \\\n",
      "Sex                                                                      \n",
      "1     70                4  130          322             0            2   \n",
      "1     57                2  124          261             0            0   \n",
      "1     64                4  128          263             0            0   \n",
      "1     65                4  120          177             0            0   \n",
      "1     56                3  130          256             1            2   \n",
      "..   ...              ...  ...          ...           ...          ...   \n",
      "1     49                2  130          266             0            0   \n",
      "1     48                2  110          229             0            0   \n",
      "1     52                3  172          199             1            0   \n",
      "1     57                4  140          192             0            0   \n",
      "1     67                4  160          286             0            2   \n",
      "\n",
      "     Max HR  Exercise angina  ST depression  Slope of ST  \\\n",
      "Sex                                                        \n",
      "1       109                0            2.4            2   \n",
      "1       141                0            0.3            1   \n",
      "1       105                1            0.2            2   \n",
      "1       140                0            0.4            1   \n",
      "1       142                1            0.6            2   \n",
      "..      ...              ...            ...          ...   \n",
      "1       171                0            0.6            1   \n",
      "1       168                0            1.0            3   \n",
      "1       162                0            0.5            1   \n",
      "1       148                0            0.4            2   \n",
      "1       108                1            1.5            2   \n",
      "\n",
      "     Number of vessels fluro  Thallium Heart Disease  \n",
      "Sex                                                   \n",
      "1                          3         3      Presence  \n",
      "1                          0         7      Presence  \n",
      "1                          1         7       Absence  \n",
      "1                          0         7       Absence  \n",
      "1                          1         6      Presence  \n",
      "..                       ...       ...           ...  \n",
      "1                          0         3       Absence  \n",
      "1                          0         7      Presence  \n",
      "1                          0         7       Absence  \n",
      "1                          0         6       Absence  \n",
      "1                          3         3      Presence  \n",
      "\n",
      "[144 rows x 13 columns]\n"
     ]
    }
   ],
   "source": [
    "\n",
    "filter_cond = df[(df['Age'] > 45) & (df.index == 1)]\n",
    "print(filter_cond)\n"
   ]
  },
  {
   "cell_type": "code",
   "execution_count": 27,
   "id": "167264af-9dd2-4b18-988c-31c5e4411018",
   "metadata": {},
   "outputs": [
    {
     "name": "stdout",
     "output_type": "stream",
     "text": [
      "     Age  Chest pain type   BP  Cholesterol  FBS over 120  EKG results  \\\n",
      "Sex                                                                      \n",
      "0     67                3  115          564             0            2   \n",
      "0     63                4  150          407             0            2   \n",
      "0     65                3  140          417             1            2   \n",
      "0     57                4  120          354             0            0   \n",
      "0     65                3  160          360             0            2   \n",
      "0     56                4  134          409             0            2   \n",
      "0     62                4  140          394             0            2   \n",
      "1     55                4  132          353             0            0   \n",
      "\n",
      "     Max HR  Exercise angina  ST depression  Slope of ST  \\\n",
      "Sex                                                        \n",
      "0       160                0            1.6            2   \n",
      "0       154                0            4.0            2   \n",
      "0       157                0            0.8            1   \n",
      "0       163                1            0.6            1   \n",
      "0       151                0            0.8            1   \n",
      "0       150                1            1.9            2   \n",
      "0       157                0            1.2            2   \n",
      "1       132                1            1.2            2   \n",
      "\n",
      "     Number of vessels fluro  Thallium Heart Disease  \n",
      "Sex                                                   \n",
      "0                          0         7       Absence  \n",
      "0                          3         7      Presence  \n",
      "0                          1         3       Absence  \n",
      "0                          0         3       Absence  \n",
      "0                          0         3       Absence  \n",
      "0                          2         7      Presence  \n",
      "0                          0         3       Absence  \n",
      "1                          1         7      Presence  \n"
     ]
    }
   ],
   "source": [
    "query_filter = df.query('Cholesterol > 350')\n",
    "print(query_filter)"
   ]
  },
  {
   "cell_type": "code",
   "execution_count": 28,
   "id": "3914f476-9569-4f70-91b8-541c355f108e",
   "metadata": {},
   "outputs": [
    {
     "name": "stdout",
     "output_type": "stream",
     "text": [
      "     Age  Chest pain type   BP  Cholesterol  FBS over 120  EKG results  \\\n",
      "Sex                                                                      \n",
      "0     67                3  115          564             0            2   \n",
      "1     57                2  124          261             0            0   \n",
      "0     74                2  120          269             0            2   \n",
      "1     56                3  130          256             1            2   \n",
      "1     44                3  140          235             0            2   \n",
      "..   ...              ...  ...          ...           ...          ...   \n",
      "1     49                2  130          266             0            0   \n",
      "1     48                2  110          229             0            0   \n",
      "1     52                3  172          199             1            0   \n",
      "1     44                2  120          263             0            0   \n",
      "0     56                2  140          294             0            2   \n",
      "\n",
      "     Max HR  Exercise angina  ST depression  Slope of ST  \\\n",
      "Sex                                                        \n",
      "0       160                0            1.6            2   \n",
      "1       141                0            0.3            1   \n",
      "0       121                1            0.2            1   \n",
      "1       142                1            0.6            2   \n",
      "1       180                0            0.0            1   \n",
      "..      ...              ...            ...          ...   \n",
      "1       171                0            0.6            1   \n",
      "1       168                0            1.0            3   \n",
      "1       162                0            0.5            1   \n",
      "1       173                0            0.0            1   \n",
      "0       153                0            1.3            2   \n",
      "\n",
      "     Number of vessels fluro  Thallium Heart Disease  \n",
      "Sex                                                   \n",
      "0                          0         7       Absence  \n",
      "1                          0         7      Presence  \n",
      "0                          1         3       Absence  \n",
      "1                          1         6      Presence  \n",
      "1                          0         3       Absence  \n",
      "..                       ...       ...           ...  \n",
      "1                          0         3       Absence  \n",
      "1                          0         7      Presence  \n",
      "1                          0         7       Absence  \n",
      "1                          0         7       Absence  \n",
      "0                          0         3       Absence  \n",
      "\n",
      "[121 rows x 13 columns]\n"
     ]
    }
   ],
   "source": [
    "filter_list = [2,3]\n",
    "filter_data = df[df['Chest pain type'].isin(filter_list)]\n",
    "print(filter_data)"
   ]
  },
  {
   "cell_type": "code",
   "execution_count": 30,
   "id": "3da32c3e-b08f-49c0-be2f-70b4c6f2e70f",
   "metadata": {},
   "outputs": [
    {
     "name": "stdout",
     "output_type": "stream",
     "text": [
      "     Fats\n",
      "Sex      \n",
      "1     322\n",
      "0     564\n",
      "1     261\n",
      "1     263\n",
      "0     269\n",
      "..    ...\n",
      "1     199\n",
      "1     263\n",
      "0     294\n",
      "1     192\n",
      "1     286\n",
      "\n",
      "[270 rows x 1 columns]\n"
     ]
    }
   ],
   "source": [
    "rename_column = df[['Cholesterol']].rename(columns={'Cholesterol': 'Fats'})\n",
    "print(rename_column)"
   ]
  },
  {
   "cell_type": "code",
   "execution_count": null,
   "id": "60bd6c13-1237-4549-9ce6-8c253df8e51a",
   "metadata": {},
   "outputs": [],
   "source": []
  }
 ],
 "metadata": {
  "kernelspec": {
   "display_name": "Python 3 (ipykernel)",
   "language": "python",
   "name": "python3"
  },
  "language_info": {
   "codemirror_mode": {
    "name": "ipython",
    "version": 3
   },
   "file_extension": ".py",
   "mimetype": "text/x-python",
   "name": "python",
   "nbconvert_exporter": "python",
   "pygments_lexer": "ipython3",
   "version": "3.11.7"
  }
 },
 "nbformat": 4,
 "nbformat_minor": 5
}
