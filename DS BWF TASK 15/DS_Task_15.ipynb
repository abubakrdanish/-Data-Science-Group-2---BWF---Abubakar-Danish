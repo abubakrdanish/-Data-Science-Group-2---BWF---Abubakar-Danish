{
  "nbformat": 4,
  "nbformat_minor": 0,
  "metadata": {
    "colab": {
      "provenance": []
    },
    "kernelspec": {
      "name": "python3",
      "display_name": "Python 3"
    },
    "language_info": {
      "name": "python"
    }
  },
  "cells": [
    {
      "cell_type": "code",
      "execution_count": 1,
      "metadata": {
        "colab": {
          "base_uri": "https://localhost:8080/"
        },
        "id": "2F925_00xkdB",
        "outputId": "8efb3e9c-8cf4-4478-aa14-a2a44a5ae8a7"
      },
      "outputs": [
        {
          "output_type": "stream",
          "name": "stdout",
          "text": [
            "  key  Value1  value2\n",
            "0   B       2       5\n",
            "1   D       4       6\n"
          ]
        }
      ],
      "source": [
        "import pandas as pd\n",
        "\n",
        "df1 =pd.DataFrame({\n",
        "    'key':['A','B','C','D'],\n",
        "    'Value1': [1,2,3,4]\n",
        "})\n",
        "\n",
        "df2 = pd.DataFrame({\n",
        "    'key': ['B','D','E','F'],\n",
        "    'value2':[5,6,7,8]\n",
        "})\n",
        "\n",
        "merge_key = pd.merge(df1,df2,on='key')\n",
        "print(merge_key)"
      ]
    },
    {
      "cell_type": "code",
      "source": [
        "df3 = pd.DataFrame({\n",
        "    'key1':['A','B','C','D'],\n",
        "    'key2':['X','Y','Z','W'],\n",
        "    'value1':[1,2,3,4]\n",
        "    })\n",
        "\n",
        "df4=pd.DataFrame({\n",
        "    'key1':['A','B','C','D'],\n",
        "    'key2':['X','Y','C','D'],\n",
        "    'value2':[5,6,7,8]\n",
        "})\n",
        "\n",
        "merged_key = pd.merge(df3,df4,on=['key1','key2'])\n",
        "print(merged_key)"
      ],
      "metadata": {
        "colab": {
          "base_uri": "https://localhost:8080/"
        },
        "id": "fr8TXNNTyVK1",
        "outputId": "d01388e7-a4e1-4d71-eac7-8a64336411d4"
      },
      "execution_count": 2,
      "outputs": [
        {
          "output_type": "stream",
          "name": "stdout",
          "text": [
            "  key1 key2  value1  value2\n",
            "0    A    X       1       5\n",
            "1    B    Y       2       6\n"
          ]
        }
      ]
    },
    {
      "cell_type": "code",
      "source": [
        "outer_join = pd.merge(df1, df2, on='key', how='outer')\n",
        "print(\"Outer Join:\\n\",outer_join)\n",
        "\n",
        "inner_join = pd.merge(df1, df2, on='key',how='inner')\n",
        "print(\"Inner Join:\\n\", inner_join)\n",
        "\n",
        "left_join = pd.merge(df1,df2,on='key',how='left')\n",
        "print(\"Left Join:\\n\",left_join)\n",
        "\n",
        "right_join = pd.merge(df1,df2,on='key',how='right')\n",
        "print(\"Right Join:\\n\",right_join)"
      ],
      "metadata": {
        "colab": {
          "base_uri": "https://localhost:8080/"
        },
        "id": "IKOhQNapzqr1",
        "outputId": "ed26a865-02a5-4b4c-c129-600366396867"
      },
      "execution_count": 3,
      "outputs": [
        {
          "output_type": "stream",
          "name": "stdout",
          "text": [
            "Outer Join:\n",
            "   key  Value1  value2\n",
            "0   A     1.0     NaN\n",
            "1   B     2.0     5.0\n",
            "2   C     3.0     NaN\n",
            "3   D     4.0     6.0\n",
            "4   E     NaN     7.0\n",
            "5   F     NaN     8.0\n",
            "Inner Join:\n",
            "   key  Value1  value2\n",
            "0   B       2       5\n",
            "1   D       4       6\n",
            "Left Join:\n",
            "   key  Value1  value2\n",
            "0   A       1     NaN\n",
            "1   B       2     5.0\n",
            "2   C       3     NaN\n",
            "3   D       4     6.0\n",
            "Right Join:\n",
            "   key  Value1  value2\n",
            "0   B     2.0       5\n",
            "1   D     4.0       6\n",
            "2   E     NaN       7\n",
            "3   F     NaN       8\n"
          ]
        }
      ]
    },
    {
      "cell_type": "code",
      "source": [
        "df5 = pd.DataFrame({\n",
        "    'key':['A','B','C'],\n",
        "    'value':[1,2,3]\n",
        "\n",
        "})\n",
        "\n",
        "df6 = pd.DataFrame({\n",
        "    'key':['D','E','F'],\n",
        "    'value':[4,5,6]\n",
        "})\n",
        "\n",
        "concatt_rows = pd.concat([df5,df6])\n",
        "print(\"Concatenate Along Rows:\\n\",concatt_rows)\n"
      ],
      "metadata": {
        "colab": {
          "base_uri": "https://localhost:8080/"
        },
        "id": "tGRcIA1S0yML",
        "outputId": "7786fcd2-c285-480e-ccc1-85d4ef7b8e0c"
      },
      "execution_count": 6,
      "outputs": [
        {
          "output_type": "stream",
          "name": "stdout",
          "text": [
            "Concatenate Along Rows:\n",
            "   key  value\n",
            "0   A      1\n",
            "1   B      2\n",
            "2   C      3\n",
            "0   D      4\n",
            "1   E      5\n",
            "2   F      6\n"
          ]
        }
      ]
    },
    {
      "cell_type": "code",
      "source": [
        "df7 = pd.DataFrame({\n",
        "    'value1':[1,2,3],\n",
        "\n",
        "})\n",
        "df8 =pd.DataFrame({\n",
        "    'value2':[4,5,6]\n",
        "\n",
        "})\n",
        "concat_columns = pd.concat([df7,df8],axis=1)\n",
        "print(\"Concatenate Along Columns:\\n\",concat_columns)"
      ],
      "metadata": {
        "colab": {
          "base_uri": "https://localhost:8080/"
        },
        "id": "r9TW7jwZ02_O",
        "outputId": "48e084a8-e7f3-4acd-91c9-9b60787eabfb"
      },
      "execution_count": 7,
      "outputs": [
        {
          "output_type": "stream",
          "name": "stdout",
          "text": [
            "Concatenate Along Columns:\n",
            "    value1  value2\n",
            "0       1       4\n",
            "1       2       5\n",
            "2       3       6\n"
          ]
        }
      ]
    },
    {
      "cell_type": "code",
      "source": [
        "df_list = [df5, df6, pd.DataFrame({'key':['G','H'],'value':[7,8]})]\n",
        "concat_list = pd.concat(df_list)\n",
        "print(\"Concatenate a list of DataFarmes:\\n\",concat_list)"
      ],
      "metadata": {
        "colab": {
          "base_uri": "https://localhost:8080/"
        },
        "id": "yUrIPNlq-ZbH",
        "outputId": "8c9ffc5e-3415-4c17-9e8d-e559115e2edc"
      },
      "execution_count": 8,
      "outputs": [
        {
          "output_type": "stream",
          "name": "stdout",
          "text": [
            "Concatenate a list of DataFarmes:\n",
            "   key  value\n",
            "0   A      1\n",
            "1   B      2\n",
            "2   C      3\n",
            "0   D      4\n",
            "1   E      5\n",
            "2   F      6\n",
            "0   G      7\n",
            "1   H      8\n"
          ]
        }
      ]
    },
    {
      "cell_type": "code",
      "source": [
        "df_wide = pd.DataFrame({\n",
        "    'key':['A','B','C'],\n",
        "    'value1':[1,2,3],\n",
        "    'value2':[4,5,6]\n",
        "})\n",
        "\n",
        "df_long = pd.melt(df_wide,id_vars=['key'],value_vars=['value1','value2'],var_name='variables',value_name='value')\n",
        "print(\"Melted DataFrame: \\n\",df_long)"
      ],
      "metadata": {
        "colab": {
          "base_uri": "https://localhost:8080/"
        },
        "id": "H5SDWMbU_AZh",
        "outputId": "9c48cccf-c369-4e29-e722-62e00921eff3"
      },
      "execution_count": 9,
      "outputs": [
        {
          "output_type": "stream",
          "name": "stdout",
          "text": [
            "Melted DataFrame: \n",
            "   key variables  value\n",
            "0   A    value1      1\n",
            "1   B    value1      2\n",
            "2   C    value1      3\n",
            "3   A    value2      4\n",
            "4   B    value2      5\n",
            "5   C    value2      6\n"
          ]
        }
      ]
    },
    {
      "cell_type": "code",
      "source": [
        "df_pivot  = pd.DataFrame({\n",
        "    'key':['A','B','A','B'],\n",
        "    'value1':[1,2,3,4],\n",
        "    'value2':[5,6,7,8]\n",
        "\n",
        "})\n",
        "pivot_table = df_pivot.pivot_table(values='value1', index='key', columns='value2', aggfunc='mean')\n",
        "print(\"Pivot Table:\\n\", pivot_table)"
      ],
      "metadata": {
        "colab": {
          "base_uri": "https://localhost:8080/"
        },
        "id": "7eW2KhadAhYR",
        "outputId": "a7794ff1-cf72-4462-b68a-b06fe3be17d2"
      },
      "execution_count": 10,
      "outputs": [
        {
          "output_type": "stream",
          "name": "stdout",
          "text": [
            "Pivot Table:\n",
            " value2    5    6    7    8\n",
            "key                       \n",
            "A       1.0  NaN  3.0  NaN\n",
            "B       NaN  2.0  NaN  4.0\n"
          ]
        }
      ]
    },
    {
      "cell_type": "code",
      "source": [
        "\n",
        "grouped = df_pivot.groupby('key').agg({\n",
        "    'value1': 'sum',\n",
        "    'value2': 'mean'\n",
        "})\n",
        "print(\"Grouped and Aggregated Data:\\n\", grouped)\n"
      ],
      "metadata": {
        "colab": {
          "base_uri": "https://localhost:8080/"
        },
        "id": "vlJgRrEZA394",
        "outputId": "b71e41bb-a444-4e97-9746-2d4c6137ff73"
      },
      "execution_count": 13,
      "outputs": [
        {
          "output_type": "stream",
          "name": "stdout",
          "text": [
            "Grouped and Aggregated Data:\n",
            "      value1  value2\n",
            "key                \n",
            "A         4     6.0\n",
            "B         6     7.0\n"
          ]
        }
      ]
    },
    {
      "cell_type": "code",
      "source": [
        "\n",
        "multi_agg = df_pivot.groupby('key').agg({\n",
        "    'value1': ['sum', 'mean'],\n",
        "    'value2': ['count', 'max']\n",
        "})\n",
        "print(\"Multiple Aggregations:\\n\", multi_agg)\n"
      ],
      "metadata": {
        "colab": {
          "base_uri": "https://localhost:8080/"
        },
        "id": "twEGBnygA6XG",
        "outputId": "06e98cd5-1073-4c1b-ae43-1fde11ae0048"
      },
      "execution_count": 14,
      "outputs": [
        {
          "output_type": "stream",
          "name": "stdout",
          "text": [
            "Multiple Aggregations:\n",
            "     value1      value2    \n",
            "       sum mean  count max\n",
            "key                       \n",
            "A        4  2.0      2   7\n",
            "B        6  3.0      2   8\n"
          ]
        }
      ]
    },
    {
      "cell_type": "code",
      "source": [
        "\n",
        "def custom_agg(series):\n",
        "    return series.max() - series.min()\n",
        "\n",
        "\n",
        "custom_grouped = df_pivot.groupby('key').agg(custom_agg)\n",
        "print(\"Custom Aggregation:\\n\", custom_grouped)\n"
      ],
      "metadata": {
        "colab": {
          "base_uri": "https://localhost:8080/"
        },
        "id": "sq2z9f-qA_Bg",
        "outputId": "34b69a61-02e6-47dd-ef45-88f5d158fbbc"
      },
      "execution_count": 15,
      "outputs": [
        {
          "output_type": "stream",
          "name": "stdout",
          "text": [
            "Custom Aggregation:\n",
            "      value1  value2\n",
            "key                \n",
            "A         2       2\n",
            "B         2       2\n"
          ]
        }
      ]
    }
  ]
}